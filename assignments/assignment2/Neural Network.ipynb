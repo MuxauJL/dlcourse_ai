{
 "cells": [
  {
   "cell_type": "markdown",
   "metadata": {},
   "source": [
    "# Задание 2.1 - Нейронные сети\n",
    "\n",
    "В этом задании вы реализуете и натренируете настоящую нейроную сеть своими руками!\n",
    "\n",
    "В некотором смысле это будет расширением прошлого задания - нам нужно просто составить несколько линейных классификаторов вместе!\n",
    "\n",
    "<img src=\"https://i.redd.it/n9fgba8b0qr01.png\" alt=\"Stack_more_layers\" width=\"400px\"/>"
   ]
  },
  {
   "cell_type": "code",
   "execution_count": 1,
   "metadata": {},
   "outputs": [],
   "source": [
    "import numpy as np\n",
    "import matplotlib.pyplot as plt\n",
    "\n",
    "%matplotlib inline\n",
    "\n",
    "%load_ext autoreload\n",
    "%autoreload 2"
   ]
  },
  {
   "cell_type": "code",
   "execution_count": 2,
   "metadata": {},
   "outputs": [],
   "source": [
    "from dataset import load_svhn, random_split_train_val\n",
    "from gradient_check import check_layer_gradient, check_layer_param_gradient, check_model_gradient\n",
    "from layers import FullyConnectedLayer, ReLULayer\n",
    "from model import TwoLayerNet\n",
    "from trainer import Trainer, Dataset\n",
    "from optim import SGD, MomentumSGD\n",
    "from metrics import multiclass_accuracy"
   ]
  },
  {
   "cell_type": "markdown",
   "metadata": {},
   "source": [
    "# Загружаем данные\n",
    "\n",
    "И разделяем их на training и validation."
   ]
  },
  {
   "cell_type": "code",
   "execution_count": 3,
   "metadata": {},
   "outputs": [],
   "source": [
    "def prepare_for_neural_network(train_X, test_X):\n",
    "    train_flat = train_X.reshape(train_X.shape[0], -1).astype(np.float64) / 255.0\n",
    "    test_flat = test_X.reshape(test_X.shape[0], -1).astype(np.float64) / 255.0\n",
    "    \n",
    "    # Subtract mean\n",
    "    mean_image = np.mean(train_flat, axis=0)\n",
    "    train_flat -= mean_image\n",
    "    test_flat -= mean_image\n",
    "    \n",
    "    return train_flat, test_flat\n",
    "    \n",
    "train_X, train_y, test_X, test_y = load_svhn(\"data\", max_train=10000, max_test=1000)    \n",
    "train_X, test_X = prepare_for_neural_network(train_X, test_X)\n",
    "# Split train into train and val\n",
    "train_X, train_y, val_X, val_y = random_split_train_val(train_X, train_y, num_val = 1000)"
   ]
  },
  {
   "cell_type": "markdown",
   "metadata": {},
   "source": [
    "# Как всегда, начинаем с кирпичиков\n",
    "\n",
    "Мы будем реализовывать необходимые нам слои по очереди. Каждый слой должен реализовать:\n",
    "- прямой проход (forward pass), который генерирует выход слоя по входу и запоминает необходимые данные\n",
    "- обратный проход (backward pass), который получает градиент по выходу слоя и вычисляет градиент по входу и по параметрам\n",
    "\n",
    "Начнем с ReLU, у которого параметров нет."
   ]
  },
  {
   "cell_type": "code",
   "execution_count": 4,
   "metadata": {
    "scrolled": false
   },
   "outputs": [
    {
     "name": "stdout",
     "output_type": "stream",
     "text": [
      "Gradient check passed!\n"
     ]
    }
   ],
   "source": [
    "X = np.array([[1,-2,3],\n",
    "              [-1, 2, 0.1]\n",
    "              ])\n",
    "\n",
    "assert check_layer_gradient(ReLULayer(), X)"
   ]
  },
  {
   "cell_type": "markdown",
   "metadata": {},
   "source": [
    "А теперь реализуем полносвязный слой (fully connected layer), у которого будет два массива параметров: W (weights) и B (bias).\n",
    "\n",
    "Все наши слои будут использовать для параметров специальный класс `Param`, в котором будут храниться значения параметров и градиенты этих параметров, вычисляемые во время обратного прохода.\n",
    "\n",
    "Это даст возможность аккумулировать (суммировать) градиенты из разных частей функции потерь, например, из cross-entropy loss и regularization loss."
   ]
  },
  {
   "cell_type": "code",
   "execution_count": 5,
   "metadata": {},
   "outputs": [
    {
     "name": "stdout",
     "output_type": "stream",
     "text": [
      "Gradient check passed!\n",
      "Gradient check passed!\n",
      "Gradient check passed!\n"
     ]
    }
   ],
   "source": [
    "assert check_layer_gradient(FullyConnectedLayer(3, 4), X)\n",
    "\n",
    "assert check_layer_param_gradient(FullyConnectedLayer(3, 4), X, 'W')\n",
    "assert check_layer_param_gradient(FullyConnectedLayer(3, 4), X, 'B')"
   ]
  },
  {
   "cell_type": "markdown",
   "metadata": {},
   "source": [
    "## Создаем нейронную сеть\n",
    "\n",
    "Теперь мы реализуем простейшую нейронную сеть с двумя полносвязным слоями и нелинейностью ReLU. Реализуйте функцию `compute_loss_and_gradients`, она должна запустить прямой и обратный проход через оба слоя для вычисления градиентов.\n",
    "\n",
    "Не забудьте реализовать очистку градиентов в начале функции."
   ]
  },
  {
   "cell_type": "code",
   "execution_count": 6,
   "metadata": {},
   "outputs": [
    {
     "name": "stdout",
     "output_type": "stream",
     "text": [
      "Checking gradient for W0\n",
      "Gradient check passed!\n",
      "Checking gradient for B0\n",
      "Gradient check passed!\n",
      "Checking gradient for W1\n",
      "Gradient check passed!\n",
      "Checking gradient for B1\n",
      "Gradient check passed!\n"
     ]
    },
    {
     "data": {
      "text/plain": [
       "True"
      ]
     },
     "execution_count": 6,
     "metadata": {},
     "output_type": "execute_result"
    }
   ],
   "source": [
    "model = TwoLayerNet(n_input = train_X.shape[1], n_output = 10, hidden_layer_size = 3, reg = 0)\n",
    "loss = model.compute_loss_and_gradients(train_X[:2], train_y[:2])\n",
    "\n",
    "check_model_gradient(model, train_X[:2], train_y[:2])"
   ]
  },
  {
   "cell_type": "markdown",
   "metadata": {},
   "source": [
    "Теперь добавьте к модели регуляризацию - она должна прибавляться к loss и делать свой вклад в градиенты."
   ]
  },
  {
   "cell_type": "code",
   "execution_count": 7,
   "metadata": {},
   "outputs": [
    {
     "name": "stdout",
     "output_type": "stream",
     "text": [
      "Checking gradient for W0\n",
      "Gradient check passed!\n",
      "Checking gradient for B0\n",
      "Gradient check passed!\n",
      "Checking gradient for W1\n",
      "Gradient check passed!\n",
      "Checking gradient for B1\n",
      "Gradient check passed!\n"
     ]
    },
    {
     "data": {
      "text/plain": [
       "True"
      ]
     },
     "execution_count": 7,
     "metadata": {},
     "output_type": "execute_result"
    }
   ],
   "source": [
    "model_with_reg = TwoLayerNet(n_input=train_X.shape[1], n_output=10, hidden_layer_size=3, reg=1e1)\n",
    "loss_with_reg = model_with_reg.compute_loss_and_gradients(train_X[:2], train_y[:2])\n",
    "assert loss_with_reg > loss and not np.isclose(loss_with_reg, loss), \\\n",
    "    \"Loss with regularization (%2.4f) should be higher than without it (%2.4f)!\" % (loss, loss_with_reg)\n",
    "\n",
    "check_model_gradient(model_with_reg, train_X[:2], train_y[:2])"
   ]
  },
  {
   "cell_type": "markdown",
   "metadata": {},
   "source": [
    "Также реализуем функцию предсказания (вычисления значения) модели на новых данных.\n",
    "\n",
    "Какое значение точности мы ожидаем увидеть до начала тренировки?"
   ]
  },
  {
   "cell_type": "code",
   "execution_count": 8,
   "metadata": {},
   "outputs": [
    {
     "data": {
      "text/plain": [
       "0.1"
      ]
     },
     "execution_count": 8,
     "metadata": {},
     "output_type": "execute_result"
    }
   ],
   "source": [
    "# Finally, implement predict function!\n",
    "\n",
    "# What would be the value we expect?\n",
    "multiclass_accuracy(model_with_reg.predict(train_X[:30]), train_y[:30]) "
   ]
  },
  {
   "cell_type": "code",
   "execution_count": 9,
   "metadata": {},
   "outputs": [],
   "source": [
    "# Set global seed to reproduce results\n",
    "np.random.seed(0)"
   ]
  },
  {
   "cell_type": "markdown",
   "metadata": {},
   "source": [
    "# Допишем код для процесса тренировки\n",
    "\n",
    "Если все реализовано корректно, значение функции ошибки должно уменьшаться с каждой эпохой, пусть и медленно. Не беспокойтесь пока про validation accuracy."
   ]
  },
  {
   "cell_type": "code",
   "execution_count": 10,
   "metadata": {},
   "outputs": [
    {
     "name": "stdout",
     "output_type": "stream",
     "text": [
      "Loss: 38.974832, Train accuracy: 0.321333, val accuracy: 0.331000\n",
      "Loss: 46.589568, Train accuracy: 0.382333, val accuracy: 0.381000\n",
      "Loss: 33.521919, Train accuracy: 0.525778, val accuracy: 0.530000\n",
      "Loss: 37.915012, Train accuracy: 0.543333, val accuracy: 0.536000\n",
      "Loss: 38.416140, Train accuracy: 0.567222, val accuracy: 0.537000\n",
      "Loss: 44.036053, Train accuracy: 0.499667, val accuracy: 0.504000\n",
      "Loss: 33.902768, Train accuracy: 0.581444, val accuracy: 0.586000\n",
      "Loss: 40.537979, Train accuracy: 0.562111, val accuracy: 0.562000\n",
      "Loss: 37.753202, Train accuracy: 0.583667, val accuracy: 0.591000\n",
      "Loss: 27.370040, Train accuracy: 0.568556, val accuracy: 0.571000\n",
      "Loss: 40.017292, Train accuracy: 0.561222, val accuracy: 0.572000\n",
      "Loss: 35.779314, Train accuracy: 0.624222, val accuracy: 0.612000\n",
      "Loss: 34.330192, Train accuracy: 0.593667, val accuracy: 0.577000\n",
      "Loss: 27.500207, Train accuracy: 0.655556, val accuracy: 0.646000\n",
      "Loss: 39.926743, Train accuracy: 0.565889, val accuracy: 0.524000\n",
      "Loss: 31.869124, Train accuracy: 0.602889, val accuracy: 0.587000\n",
      "Loss: 40.875223, Train accuracy: 0.598000, val accuracy: 0.583000\n",
      "Loss: 33.706790, Train accuracy: 0.573444, val accuracy: 0.555000\n",
      "Loss: 32.661152, Train accuracy: 0.604889, val accuracy: 0.600000\n",
      "Loss: 30.714527, Train accuracy: 0.571222, val accuracy: 0.546000\n"
     ]
    }
   ],
   "source": [
    "model = TwoLayerNet(n_input=train_X.shape[1], n_output=10, hidden_layer_size=100, reg=1e-1)\n",
    "dataset = Dataset(train_X, train_y, val_X, val_y)\n",
    "trainer = Trainer(model, dataset, SGD(), learning_rate=1e-2)\n",
    "\n",
    "# You should expect loss to go down every epoch, even if it's slow\n",
    "loss_history, train_history, val_history = trainer.fit()"
   ]
  },
  {
   "cell_type": "code",
   "execution_count": 11,
   "metadata": {},
   "outputs": [
    {
     "data": {
      "text/plain": [
       "[<matplotlib.lines.Line2D at 0x1e6a4213550>]"
      ]
     },
     "execution_count": 11,
     "metadata": {},
     "output_type": "execute_result"
    },
    {
     "data": {
      "image/png": "[encoded data removed]",
      "text/plain": [
       "<Figure size 432x288 with 1 Axes>"
      ]
     },
     "metadata": {
      "needs_background": "light"
     },
     "output_type": "display_data"
    }
   ],
   "source": [
    "plt.plot(train_history)\n",
    "plt.plot(val_history)"
   ]
  },
  {
   "cell_type": "markdown",
   "metadata": {},
   "source": [
    "# Улучшаем процесс тренировки\n",
    "\n",
    "Мы реализуем несколько ключевых оптимизаций, необходимых для тренировки современных нейросетей."
   ]
  },
  {
   "cell_type": "markdown",
   "metadata": {},
   "source": [
    "## Уменьшение скорости обучения (learning rate decay)\n",
    "\n",
    "Одна из необходимых оптимизаций во время тренировки нейронных сетей - постепенное уменьшение скорости обучения по мере тренировки.\n",
    "\n",
    "Один из стандартных методов - уменьшение скорости обучения (learning rate) каждые N эпох на коэффициент d (часто называемый decay). Значения N и d, как всегда, являются гиперпараметрами и должны подбираться на основе эффективности на проверочных данных (validation data). \n",
    "\n",
    "В нашем случае N будет равным 1."
   ]
  },
  {
   "cell_type": "code",
   "execution_count": 12,
   "metadata": {},
   "outputs": [
    {
     "name": "stdout",
     "output_type": "stream",
     "text": [
      "Loss: 43.045442, Train accuracy: 0.310556, val accuracy: 0.310000\n",
      "Loss: 28.234112, Train accuracy: 0.468667, val accuracy: 0.487000\n",
      "Loss: 42.517803, Train accuracy: 0.494222, val accuracy: 0.495000\n",
      "Loss: 38.303856, Train accuracy: 0.555222, val accuracy: 0.554000\n",
      "Loss: 42.385502, Train accuracy: 0.539667, val accuracy: 0.528000\n",
      "Loss: 24.623421, Train accuracy: 0.618111, val accuracy: 0.611000\n",
      "Loss: 39.096049, Train accuracy: 0.554111, val accuracy: 0.534000\n",
      "Loss: 30.866816, Train accuracy: 0.638000, val accuracy: 0.622000\n",
      "Loss: 32.460275, Train accuracy: 0.583000, val accuracy: 0.583000\n",
      "Loss: 36.399533, Train accuracy: 0.605778, val accuracy: 0.599000\n",
      "Loss: 34.407670, Train accuracy: 0.603667, val accuracy: 0.596000\n",
      "Loss: 31.882684, Train accuracy: 0.592111, val accuracy: 0.570000\n",
      "Loss: 37.500617, Train accuracy: 0.600000, val accuracy: 0.601000\n",
      "Loss: 30.521464, Train accuracy: 0.607333, val accuracy: 0.584000\n",
      "Loss: 30.829812, Train accuracy: 0.628444, val accuracy: 0.617000\n",
      "Loss: 34.403159, Train accuracy: 0.609444, val accuracy: 0.587000\n",
      "Loss: 35.590177, Train accuracy: 0.600556, val accuracy: 0.602000\n",
      "Loss: 45.402309, Train accuracy: 0.614111, val accuracy: 0.591000\n",
      "Loss: 33.799972, Train accuracy: 0.615222, val accuracy: 0.595000\n",
      "Loss: 32.895767, Train accuracy: 0.557333, val accuracy: 0.558000\n"
     ]
    }
   ],
   "source": [
    "# Decay should happen once per epoch\n",
    "model = TwoLayerNet(n_input=train_X.shape[1], n_output=10, hidden_layer_size=100, reg=1e-1)\n",
    "dataset = Dataset(train_X, train_y, val_X, val_y)\n",
    "trainer = Trainer(model, dataset, SGD(), learning_rate_decay=0.99)\n",
    "\n",
    "initial_learning_rate = trainer.learning_rate\n",
    "loss_history, train_history, val_history = trainer.fit()\n",
    "\n",
    "assert trainer.learning_rate < initial_learning_rate, \"Learning rate should've been reduced\"\n",
    "assert trainer.learning_rate > 0.5*initial_learning_rate, \"Learning rate shouldn'tve been reduced that much!\""
   ]
  },
  {
   "cell_type": "markdown",
   "metadata": {},
   "source": [
    "# Накопление импульса (Momentum SGD)\n",
    "\n",
    "Другой большой класс оптимизаций - использование более эффективных методов градиентного спуска. Мы реализуем один из них - накопление импульса (Momentum SGD).\n",
    "\n",
    "Этот метод хранит скорость движения, использует градиент для ее изменения на каждом шаге, и изменяет веса пропорционально значению скорости.\n",
    "(Физическая аналогия: Вместо скорости градиенты теперь будут задавать ускорение, но будет присутствовать сила трения.)\n",
    "\n",
    "```\n",
    "velocity = momentum * velocity - learning_rate * gradient \n",
    "w = w + velocity\n",
    "```\n",
    "\n",
    "`momentum` здесь коэффициент затухания, который тоже является гиперпараметром (к счастью, для него часто есть хорошее значение по умолчанию, типичный диапазон -- 0.8-0.99).\n",
    "\n",
    "Несколько полезных ссылок, где метод разбирается более подробно:  \n",
    "http://cs231n.github.io/neural-networks-3/#sgd  \n",
    "https://distill.pub/2017/momentum/"
   ]
  },
  {
   "cell_type": "code",
   "execution_count": 13,
   "metadata": {},
   "outputs": [
    {
     "name": "stdout",
     "output_type": "stream",
     "text": [
      "Loss: 45.130735, Train accuracy: 0.196667, val accuracy: 0.206000\n",
      "Loss: 47.817784, Train accuracy: 0.196667, val accuracy: 0.206000\n",
      "Loss: 41.882024, Train accuracy: 0.196667, val accuracy: 0.206000\n",
      "Loss: 46.421242, Train accuracy: 0.196667, val accuracy: 0.206000\n",
      "Loss: 43.550153, Train accuracy: 0.203333, val accuracy: 0.212000\n",
      "Loss: 40.558212, Train accuracy: 0.239778, val accuracy: 0.242000\n",
      "Loss: 46.477837, Train accuracy: 0.260000, val accuracy: 0.256000\n",
      "Loss: 37.244858, Train accuracy: 0.280333, val accuracy: 0.283000\n",
      "Loss: 41.536190, Train accuracy: 0.351667, val accuracy: 0.357000\n",
      "Loss: 40.337356, Train accuracy: 0.400333, val accuracy: 0.387000\n",
      "Loss: 40.712674, Train accuracy: 0.437778, val accuracy: 0.425000\n",
      "Loss: 40.498278, Train accuracy: 0.456222, val accuracy: 0.438000\n",
      "Loss: 31.046233, Train accuracy: 0.475444, val accuracy: 0.471000\n",
      "Loss: 29.164389, Train accuracy: 0.517000, val accuracy: 0.518000\n",
      "Loss: 34.598313, Train accuracy: 0.555333, val accuracy: 0.542000\n",
      "Loss: 29.478530, Train accuracy: 0.558667, val accuracy: 0.554000\n",
      "Loss: 31.284013, Train accuracy: 0.580333, val accuracy: 0.566000\n",
      "Loss: 31.397959, Train accuracy: 0.603778, val accuracy: 0.599000\n",
      "Loss: 22.548570, Train accuracy: 0.615889, val accuracy: 0.607000\n",
      "Loss: 31.995981, Train accuracy: 0.631444, val accuracy: 0.627000\n"
     ]
    }
   ],
   "source": [
    "model = TwoLayerNet(n_input=train_X.shape[1], n_output=10, hidden_layer_size=100, reg=1e-1)\n",
    "dataset = Dataset(train_X, train_y, val_X, val_y)\n",
    "trainer = Trainer(model, dataset, MomentumSGD(), learning_rate=1e-4, learning_rate_decay=0.99)\n",
    "\n",
    "# You should see even better results than before!\n",
    "loss_history, train_history, val_history = trainer.fit()"
   ]
  },
  {
   "cell_type": "markdown",
   "metadata": {},
   "source": [
    "# Ну что, давайте уже тренировать сеть!"
   ]
  },
  {
   "cell_type": "markdown",
   "metadata": {},
   "source": [
    "## Последний тест - переобучимся (overfit) на маленьком наборе данных\n",
    "\n",
    "Хороший способ проверить, все ли реализовано корректно - переобучить сеть на маленьком наборе данных.  \n",
    "Наша модель обладает достаточной мощностью, чтобы приблизить маленький набор данных идеально, поэтому мы ожидаем, что на нем мы быстро дойдем до 100% точности на тренировочном наборе. \n",
    "\n",
    "Если этого не происходит, то где-то была допущена ошибка!"
   ]
  },
  {
   "cell_type": "code",
   "execution_count": 14,
   "metadata": {},
   "outputs": [
    {
     "name": "stdout",
     "output_type": "stream",
     "text": [
      "Loss: 11.543333, Train accuracy: 0.200000, val accuracy: 0.066667\n",
      "Loss: 11.515804, Train accuracy: 0.200000, val accuracy: 0.066667\n",
      "Loss: 11.416036, Train accuracy: 0.200000, val accuracy: 0.066667\n",
      "Loss: 11.512466, Train accuracy: 0.200000, val accuracy: 0.066667\n",
      "Loss: 11.518150, Train accuracy: 0.200000, val accuracy: 0.066667\n",
      "Loss: 11.507092, Train accuracy: 0.266667, val accuracy: 0.066667\n",
      "Loss: 11.428596, Train accuracy: 0.333333, val accuracy: 0.066667\n",
      "Loss: 11.457868, Train accuracy: 0.200000, val accuracy: 0.066667\n",
      "Loss: 11.350407, Train accuracy: 0.266667, val accuracy: 0.000000\n",
      "Loss: 11.052376, Train accuracy: 0.266667, val accuracy: 0.000000\n",
      "Loss: 11.414579, Train accuracy: 0.266667, val accuracy: 0.000000\n",
      "Loss: 11.394177, Train accuracy: 0.266667, val accuracy: 0.000000\n",
      "Loss: 11.091690, Train accuracy: 0.266667, val accuracy: 0.000000\n",
      "Loss: 10.940510, Train accuracy: 0.333333, val accuracy: 0.000000\n",
      "Loss: 11.265364, Train accuracy: 0.400000, val accuracy: 0.000000\n",
      "Loss: 10.812357, Train accuracy: 0.400000, val accuracy: 0.000000\n",
      "Loss: 9.925133, Train accuracy: 0.400000, val accuracy: 0.000000\n",
      "Loss: 10.589817, Train accuracy: 0.400000, val accuracy: 0.000000\n",
      "Loss: 10.341234, Train accuracy: 0.400000, val accuracy: 0.000000\n",
      "Loss: 9.613686, Train accuracy: 0.400000, val accuracy: 0.000000\n",
      "Loss: 8.647569, Train accuracy: 0.400000, val accuracy: 0.000000\n",
      "Loss: 8.495334, Train accuracy: 0.400000, val accuracy: 0.000000\n",
      "Loss: 7.767741, Train accuracy: 0.333333, val accuracy: 0.000000\n",
      "Loss: 11.784925, Train accuracy: 0.333333, val accuracy: 0.000000\n",
      "Loss: 7.927927, Train accuracy: 0.333333, val accuracy: 0.000000\n",
      "Loss: 7.011263, Train accuracy: 0.333333, val accuracy: 0.000000\n",
      "Loss: 6.770640, Train accuracy: 0.333333, val accuracy: 0.000000\n",
      "Loss: 7.914406, Train accuracy: 0.400000, val accuracy: 0.000000\n",
      "Loss: 7.806126, Train accuracy: 0.400000, val accuracy: 0.000000\n",
      "Loss: 7.576480, Train accuracy: 0.400000, val accuracy: 0.000000\n",
      "Loss: 7.616214, Train accuracy: 0.400000, val accuracy: 0.000000\n",
      "Loss: 8.911130, Train accuracy: 0.400000, val accuracy: 0.000000\n",
      "Loss: 7.766010, Train accuracy: 0.466667, val accuracy: 0.000000\n",
      "Loss: 9.512407, Train accuracy: 0.466667, val accuracy: 0.000000\n",
      "Loss: 8.207640, Train accuracy: 0.466667, val accuracy: 0.000000\n",
      "Loss: 5.730117, Train accuracy: 0.466667, val accuracy: 0.000000\n",
      "Loss: 6.174702, Train accuracy: 0.466667, val accuracy: 0.000000\n",
      "Loss: 6.337238, Train accuracy: 0.466667, val accuracy: 0.000000\n",
      "Loss: 9.077657, Train accuracy: 0.466667, val accuracy: 0.066667\n",
      "Loss: 5.414162, Train accuracy: 0.466667, val accuracy: 0.066667\n",
      "Loss: 7.213139, Train accuracy: 0.466667, val accuracy: 0.066667\n",
      "Loss: 7.044943, Train accuracy: 0.466667, val accuracy: 0.066667\n",
      "Loss: 5.544928, Train accuracy: 0.466667, val accuracy: 0.066667\n",
      "Loss: 6.643058, Train accuracy: 0.466667, val accuracy: 0.066667\n",
      "Loss: 6.256562, Train accuracy: 0.600000, val accuracy: 0.066667\n",
      "Loss: 9.720914, Train accuracy: 0.600000, val accuracy: 0.066667\n",
      "Loss: 5.150147, Train accuracy: 0.600000, val accuracy: 0.066667\n",
      "Loss: 8.380627, Train accuracy: 0.533333, val accuracy: 0.066667\n",
      "Loss: 7.789494, Train accuracy: 0.600000, val accuracy: 0.066667\n",
      "Loss: 4.151662, Train accuracy: 0.666667, val accuracy: 0.066667\n",
      "Loss: 9.607503, Train accuracy: 0.666667, val accuracy: 0.066667\n",
      "Loss: 5.871734, Train accuracy: 0.666667, val accuracy: 0.066667\n",
      "Loss: 7.909780, Train accuracy: 0.666667, val accuracy: 0.066667\n",
      "Loss: 6.931425, Train accuracy: 0.733333, val accuracy: 0.066667\n",
      "Loss: 6.974457, Train accuracy: 0.733333, val accuracy: 0.066667\n",
      "Loss: 8.078823, Train accuracy: 0.733333, val accuracy: 0.066667\n",
      "Loss: 7.021599, Train accuracy: 0.733333, val accuracy: 0.066667\n",
      "Loss: 6.277951, Train accuracy: 0.733333, val accuracy: 0.066667\n",
      "Loss: 2.377344, Train accuracy: 0.733333, val accuracy: 0.066667\n",
      "Loss: 5.061137, Train accuracy: 0.800000, val accuracy: 0.066667\n",
      "Loss: 6.305176, Train accuracy: 0.733333, val accuracy: 0.066667\n",
      "Loss: 5.871858, Train accuracy: 0.800000, val accuracy: 0.066667\n",
      "Loss: 7.480611, Train accuracy: 0.800000, val accuracy: 0.066667\n",
      "Loss: 4.524299, Train accuracy: 0.800000, val accuracy: 0.066667\n",
      "Loss: 5.756847, Train accuracy: 0.800000, val accuracy: 0.066667\n",
      "Loss: 5.496985, Train accuracy: 0.800000, val accuracy: 0.066667\n",
      "Loss: 4.300478, Train accuracy: 0.800000, val accuracy: 0.066667\n",
      "Loss: 4.653965, Train accuracy: 0.800000, val accuracy: 0.066667\n",
      "Loss: 3.115008, Train accuracy: 0.800000, val accuracy: 0.066667\n",
      "Loss: 6.249935, Train accuracy: 0.800000, val accuracy: 0.066667\n",
      "Loss: 5.484675, Train accuracy: 0.800000, val accuracy: 0.066667\n",
      "Loss: 5.440886, Train accuracy: 0.800000, val accuracy: 0.066667\n",
      "Loss: 2.772027, Train accuracy: 0.800000, val accuracy: 0.066667\n",
      "Loss: 3.463574, Train accuracy: 0.800000, val accuracy: 0.066667\n",
      "Loss: 3.513891, Train accuracy: 0.800000, val accuracy: 0.066667\n",
      "Loss: 3.771483, Train accuracy: 0.800000, val accuracy: 0.066667\n",
      "Loss: 5.446475, Train accuracy: 0.800000, val accuracy: 0.066667\n",
      "Loss: 1.353936, Train accuracy: 0.800000, val accuracy: 0.066667\n",
      "Loss: 5.497931, Train accuracy: 0.800000, val accuracy: 0.066667\n",
      "Loss: 1.568295, Train accuracy: 0.800000, val accuracy: 0.066667\n",
      "Loss: 5.030578, Train accuracy: 0.800000, val accuracy: 0.066667\n",
      "Loss: 3.270104, Train accuracy: 0.800000, val accuracy: 0.066667\n",
      "Loss: 3.753513, Train accuracy: 0.800000, val accuracy: 0.066667\n",
      "Loss: 3.531290, Train accuracy: 0.800000, val accuracy: 0.066667\n",
      "Loss: 3.313005, Train accuracy: 0.800000, val accuracy: 0.066667\n",
      "Loss: 1.490980, Train accuracy: 0.800000, val accuracy: 0.066667\n",
      "Loss: 3.177560, Train accuracy: 0.800000, val accuracy: 0.066667\n",
      "Loss: 3.368499, Train accuracy: 0.800000, val accuracy: 0.066667\n",
      "Loss: 3.453897, Train accuracy: 0.866667, val accuracy: 0.066667\n",
      "Loss: 4.952075, Train accuracy: 0.866667, val accuracy: 0.066667\n",
      "Loss: 1.642728, Train accuracy: 0.933333, val accuracy: 0.066667\n",
      "Loss: 3.277367, Train accuracy: 0.933333, val accuracy: 0.066667\n",
      "Loss: 3.188052, Train accuracy: 0.933333, val accuracy: 0.066667\n",
      "Loss: 5.920023, Train accuracy: 0.933333, val accuracy: 0.066667\n",
      "Loss: 4.865969, Train accuracy: 0.933333, val accuracy: 0.066667\n",
      "Loss: 2.546123, Train accuracy: 0.933333, val accuracy: 0.066667\n",
      "Loss: 4.412659, Train accuracy: 0.933333, val accuracy: 0.066667\n",
      "Loss: 3.914690, Train accuracy: 0.933333, val accuracy: 0.066667\n",
      "Loss: 3.956354, Train accuracy: 0.933333, val accuracy: 0.066667\n",
      "Loss: 6.150036, Train accuracy: 0.933333, val accuracy: 0.066667\n",
      "Loss: 4.347703, Train accuracy: 0.933333, val accuracy: 0.066667\n",
      "Loss: 2.954047, Train accuracy: 0.933333, val accuracy: 0.066667\n",
      "Loss: 2.896638, Train accuracy: 0.933333, val accuracy: 0.066667\n",
      "Loss: 2.962705, Train accuracy: 1.000000, val accuracy: 0.066667\n",
      "Loss: 3.948124, Train accuracy: 1.000000, val accuracy: 0.066667\n",
      "Loss: 2.391859, Train accuracy: 1.000000, val accuracy: 0.066667\n",
      "Loss: 1.684204, Train accuracy: 1.000000, val accuracy: 0.066667\n",
      "Loss: 3.954266, Train accuracy: 1.000000, val accuracy: 0.066667\n",
      "Loss: 2.720309, Train accuracy: 1.000000, val accuracy: 0.066667\n",
      "Loss: 3.747539, Train accuracy: 1.000000, val accuracy: 0.066667\n",
      "Loss: 2.398162, Train accuracy: 1.000000, val accuracy: 0.066667\n",
      "Loss: 2.573569, Train accuracy: 1.000000, val accuracy: 0.066667\n",
      "Loss: 2.468463, Train accuracy: 1.000000, val accuracy: 0.066667\n",
      "Loss: 4.010432, Train accuracy: 1.000000, val accuracy: 0.066667\n",
      "Loss: 3.095247, Train accuracy: 1.000000, val accuracy: 0.066667\n",
      "Loss: 2.414782, Train accuracy: 1.000000, val accuracy: 0.066667\n",
      "Loss: 2.661045, Train accuracy: 1.000000, val accuracy: 0.066667\n",
      "Loss: 2.185175, Train accuracy: 1.000000, val accuracy: 0.066667\n",
      "Loss: 1.721825, Train accuracy: 1.000000, val accuracy: 0.066667\n",
      "Loss: 2.601565, Train accuracy: 1.000000, val accuracy: 0.066667\n",
      "Loss: 2.265053, Train accuracy: 1.000000, val accuracy: 0.066667\n",
      "Loss: 1.795548, Train accuracy: 1.000000, val accuracy: 0.066667\n",
      "Loss: 2.695689, Train accuracy: 1.000000, val accuracy: 0.066667\n",
      "Loss: 2.948221, Train accuracy: 1.000000, val accuracy: 0.066667\n",
      "Loss: 2.047026, Train accuracy: 1.000000, val accuracy: 0.066667\n",
      "Loss: 1.709707, Train accuracy: 1.000000, val accuracy: 0.066667\n"
     ]
    },
    {
     "name": "stdout",
     "output_type": "stream",
     "text": [
      "Loss: 2.544668, Train accuracy: 1.000000, val accuracy: 0.066667\n",
      "Loss: 2.024289, Train accuracy: 1.000000, val accuracy: 0.066667\n",
      "Loss: 2.214200, Train accuracy: 1.000000, val accuracy: 0.066667\n",
      "Loss: 2.203441, Train accuracy: 1.000000, val accuracy: 0.000000\n",
      "Loss: 2.762515, Train accuracy: 1.000000, val accuracy: 0.000000\n",
      "Loss: 1.737859, Train accuracy: 1.000000, val accuracy: 0.000000\n",
      "Loss: 2.083798, Train accuracy: 1.000000, val accuracy: 0.000000\n",
      "Loss: 1.767356, Train accuracy: 1.000000, val accuracy: 0.000000\n",
      "Loss: 1.924184, Train accuracy: 1.000000, val accuracy: 0.000000\n",
      "Loss: 1.968692, Train accuracy: 1.000000, val accuracy: 0.000000\n",
      "Loss: 1.801435, Train accuracy: 1.000000, val accuracy: 0.000000\n",
      "Loss: 1.630370, Train accuracy: 1.000000, val accuracy: 0.000000\n",
      "Loss: 2.047542, Train accuracy: 1.000000, val accuracy: 0.000000\n",
      "Loss: 2.559490, Train accuracy: 1.000000, val accuracy: 0.000000\n",
      "Loss: 2.400013, Train accuracy: 1.000000, val accuracy: 0.000000\n",
      "Loss: 2.461449, Train accuracy: 1.000000, val accuracy: 0.000000\n",
      "Loss: 2.123389, Train accuracy: 1.000000, val accuracy: 0.000000\n",
      "Loss: 1.905137, Train accuracy: 1.000000, val accuracy: 0.000000\n",
      "Loss: 2.552084, Train accuracy: 1.000000, val accuracy: 0.000000\n",
      "Loss: 2.023167, Train accuracy: 1.000000, val accuracy: 0.000000\n",
      "Loss: 2.017505, Train accuracy: 1.000000, val accuracy: 0.000000\n",
      "Loss: 2.477436, Train accuracy: 1.000000, val accuracy: 0.000000\n",
      "Loss: 2.593815, Train accuracy: 1.000000, val accuracy: 0.000000\n",
      "Loss: 2.006523, Train accuracy: 1.000000, val accuracy: 0.000000\n"
     ]
    }
   ],
   "source": [
    "data_size = 15\n",
    "model = TwoLayerNet(n_input = train_X.shape[1], n_output = 10, hidden_layer_size = 100, reg = 1e-1)\n",
    "dataset = Dataset(train_X[:data_size], train_y[:data_size], val_X[:data_size], val_y[:data_size])\n",
    "trainer = Trainer(model, dataset, SGD(), learning_rate=1e-2, num_epochs=150, batch_size=5)\n",
    "\n",
    "# You should expect this to reach 1.0 training accuracy \n",
    "loss_history, train_history, val_history = trainer.fit()"
   ]
  },
  {
   "cell_type": "markdown",
   "metadata": {},
   "source": [
    "Теперь найдем гипепараметры, для которых этот процесс сходится быстрее.\n",
    "Если все реализовано корректно, то существуют параметры, при которых процесс сходится в **20** эпох или еще быстрее.\n",
    "Найдите их!"
   ]
  },
  {
   "cell_type": "code",
   "execution_count": 15,
   "metadata": {},
   "outputs": [
    {
     "name": "stdout",
     "output_type": "stream",
     "text": [
      "Loss: 11.567885, Train accuracy: 0.200000, val accuracy: 0.066667\n",
      "Loss: 11.507250, Train accuracy: 0.200000, val accuracy: 0.066667\n",
      "Loss: 11.380340, Train accuracy: 0.200000, val accuracy: 0.066667\n",
      "Loss: 11.089365, Train accuracy: 0.266667, val accuracy: 0.066667\n",
      "Loss: 10.861243, Train accuracy: 0.266667, val accuracy: 0.000000\n",
      "Loss: 10.822692, Train accuracy: 0.333333, val accuracy: 0.133333\n",
      "Loss: 11.080648, Train accuracy: 0.400000, val accuracy: 0.000000\n",
      "Loss: 11.485191, Train accuracy: 0.400000, val accuracy: 0.000000\n",
      "Loss: 8.375465, Train accuracy: 0.400000, val accuracy: 0.000000\n",
      "Loss: 8.039102, Train accuracy: 0.400000, val accuracy: 0.133333\n",
      "Loss: 9.587526, Train accuracy: 0.533333, val accuracy: 0.066667\n",
      "Loss: 6.027564, Train accuracy: 0.600000, val accuracy: 0.066667\n",
      "Loss: 5.891355, Train accuracy: 0.600000, val accuracy: 0.000000\n",
      "Loss: 2.692595, Train accuracy: 0.666667, val accuracy: 0.066667\n",
      "Loss: 3.780427, Train accuracy: 0.666667, val accuracy: 0.066667\n",
      "Loss: 4.512810, Train accuracy: 0.800000, val accuracy: 0.000000\n",
      "Loss: 0.975268, Train accuracy: 0.800000, val accuracy: 0.000000\n",
      "Loss: 0.208623, Train accuracy: 1.000000, val accuracy: 0.000000\n",
      "Loss: 0.905282, Train accuracy: 1.000000, val accuracy: 0.000000\n",
      "Loss: 0.682118, Train accuracy: 1.000000, val accuracy: 0.000000\n"
     ]
    }
   ],
   "source": [
    "# Now, tweak some hyper parameters and make it train to 1.0 accuracy in 20 epochs or less\n",
    "\n",
    "model = TwoLayerNet(n_input=train_X.shape[1], n_output=10, hidden_layer_size=100, reg=1e-3)\n",
    "dataset = Dataset(train_X[:data_size], train_y[:data_size], val_X[:data_size], val_y[:data_size])\n",
    "trainer = Trainer(model, dataset, MomentumSGD(), learning_rate=1e-2, num_epochs=20, batch_size=5)\n",
    "\n",
    "loss_history, train_history, val_history = trainer.fit()"
   ]
  },
  {
   "cell_type": "markdown",
   "metadata": {},
   "source": [
    "# Итак, основное мероприятие!\n",
    "\n",
    "Натренируйте лучшую нейросеть! Можно добавлять и изменять параметры, менять количество нейронов в слоях сети и как угодно экспериментировать. \n",
    "\n",
    "Добейтесь точности лучше **60%** на validation set."
   ]
  },
  {
   "cell_type": "code",
   "execution_count": 16,
   "metadata": {
    "scrolled": true
   },
   "outputs": [
    {
     "name": "stdout",
     "output_type": "stream",
     "text": [
      "Loss: 89.122774, Train accuracy: 0.196667, val accuracy: 0.206000\n",
      "Loss: 87.322544, Train accuracy: 0.196667, val accuracy: 0.206000\n",
      "Loss: 87.159499, Train accuracy: 0.196667, val accuracy: 0.206000\n",
      "Loss: 83.367419, Train accuracy: 0.196667, val accuracy: 0.206000\n",
      "Loss: 84.431398, Train accuracy: 0.216778, val accuracy: 0.225000\n",
      "Loss: 92.169960, Train accuracy: 0.261444, val accuracy: 0.254000\n",
      "Loss: 81.902267, Train accuracy: 0.288111, val accuracy: 0.294000\n",
      "Loss: 71.420590, Train accuracy: 0.373000, val accuracy: 0.371000\n",
      "Loss: 86.561965, Train accuracy: 0.431333, val accuracy: 0.421000\n",
      "Loss: 64.619691, Train accuracy: 0.467444, val accuracy: 0.452000\n",
      "Loss: 54.182753, Train accuracy: 0.503778, val accuracy: 0.505000\n",
      "Loss: 52.888214, Train accuracy: 0.553556, val accuracy: 0.550000\n",
      "Loss: 57.543887, Train accuracy: 0.584889, val accuracy: 0.572000\n",
      "Loss: 40.727394, Train accuracy: 0.600111, val accuracy: 0.587000\n",
      "Loss: 36.457883, Train accuracy: 0.640778, val accuracy: 0.611000\n",
      "Loss: 45.668802, Train accuracy: 0.653889, val accuracy: 0.636000\n",
      "Loss: 36.938047, Train accuracy: 0.661889, val accuracy: 0.650000\n",
      "Loss: 39.413107, Train accuracy: 0.674111, val accuracy: 0.658000\n",
      "Loss: 44.833700, Train accuracy: 0.693667, val accuracy: 0.664000\n",
      "Loss: 36.828686, Train accuracy: 0.698778, val accuracy: 0.668000\n",
      "Loss: 35.102835, Train accuracy: 0.716778, val accuracy: 0.688000\n",
      "Loss: 27.007488, Train accuracy: 0.720889, val accuracy: 0.682000\n",
      "Loss: 39.055517, Train accuracy: 0.735000, val accuracy: 0.682000\n",
      "Loss: 39.312775, Train accuracy: 0.740111, val accuracy: 0.683000\n",
      "Loss: 25.434673, Train accuracy: 0.752889, val accuracy: 0.701000\n",
      "Loss: 37.647607, Train accuracy: 0.756000, val accuracy: 0.711000\n",
      "Loss: 30.666715, Train accuracy: 0.766000, val accuracy: 0.706000\n",
      "Loss: 32.432258, Train accuracy: 0.766889, val accuracy: 0.703000\n",
      "Loss: 30.678697, Train accuracy: 0.782000, val accuracy: 0.718000\n",
      "Loss: 29.882089, Train accuracy: 0.777444, val accuracy: 0.721000\n",
      "Loss: 29.521346, Train accuracy: 0.784778, val accuracy: 0.724000\n",
      "Loss: 23.129482, Train accuracy: 0.784556, val accuracy: 0.714000\n",
      "Loss: 20.250296, Train accuracy: 0.793889, val accuracy: 0.727000\n",
      "Loss: 33.985404, Train accuracy: 0.803778, val accuracy: 0.734000\n",
      "Loss: 34.265703, Train accuracy: 0.802556, val accuracy: 0.717000\n",
      "Loss: 24.962035, Train accuracy: 0.811556, val accuracy: 0.726000\n",
      "Loss: 24.459531, Train accuracy: 0.816111, val accuracy: 0.731000\n",
      "Loss: 30.130109, Train accuracy: 0.819444, val accuracy: 0.735000\n",
      "Loss: 32.096432, Train accuracy: 0.821778, val accuracy: 0.735000\n",
      "Loss: 27.684937, Train accuracy: 0.820222, val accuracy: 0.740000\n",
      "Loss: 25.372624, Train accuracy: 0.826333, val accuracy: 0.732000\n",
      "Loss: 25.508305, Train accuracy: 0.824222, val accuracy: 0.727000\n",
      "Loss: 34.144319, Train accuracy: 0.833333, val accuracy: 0.737000\n",
      "Loss: 33.015419, Train accuracy: 0.844778, val accuracy: 0.745000\n",
      "Loss: 21.354026, Train accuracy: 0.850444, val accuracy: 0.742000\n",
      "Loss: 19.332134, Train accuracy: 0.849444, val accuracy: 0.735000\n",
      "Loss: 25.448884, Train accuracy: 0.854667, val accuracy: 0.755000\n",
      "Loss: 26.204880, Train accuracy: 0.846111, val accuracy: 0.747000\n",
      "Loss: 10.708397, Train accuracy: 0.853778, val accuracy: 0.733000\n",
      "Loss: 12.597139, Train accuracy: 0.861778, val accuracy: 0.743000\n",
      "Loss: 24.695780, Train accuracy: 0.858667, val accuracy: 0.734000\n",
      "Loss: 29.102019, Train accuracy: 0.870667, val accuracy: 0.748000\n",
      "Loss: 27.618493, Train accuracy: 0.872556, val accuracy: 0.744000\n",
      "Loss: 22.263701, Train accuracy: 0.874778, val accuracy: 0.727000\n",
      "Loss: 15.017928, Train accuracy: 0.879333, val accuracy: 0.755000\n",
      "Loss: 14.769373, Train accuracy: 0.872444, val accuracy: 0.749000\n",
      "Loss: 19.084997, Train accuracy: 0.887444, val accuracy: 0.756000\n",
      "Loss: 13.008200, Train accuracy: 0.885556, val accuracy: 0.753000\n",
      "Loss: 14.528708, Train accuracy: 0.891444, val accuracy: 0.760000\n",
      "Loss: 12.982948, Train accuracy: 0.892111, val accuracy: 0.753000\n",
      "Loss: 19.863821, Train accuracy: 0.900333, val accuracy: 0.744000\n",
      "Loss: 11.276368, Train accuracy: 0.897222, val accuracy: 0.750000\n",
      "Loss: 29.436983, Train accuracy: 0.901889, val accuracy: 0.760000\n",
      "Loss: 14.182543, Train accuracy: 0.903333, val accuracy: 0.735000\n",
      "Loss: 11.388869, Train accuracy: 0.904222, val accuracy: 0.753000\n",
      "Loss: 10.891835, Train accuracy: 0.907111, val accuracy: 0.750000\n",
      "Loss: 10.355180, Train accuracy: 0.902111, val accuracy: 0.755000\n",
      "Loss: 17.985683, Train accuracy: 0.909556, val accuracy: 0.753000\n",
      "Loss: 11.306237, Train accuracy: 0.916111, val accuracy: 0.755000\n",
      "Loss: 14.615592, Train accuracy: 0.912889, val accuracy: 0.758000\n",
      "Loss: 13.013592, Train accuracy: 0.921444, val accuracy: 0.751000\n",
      "Loss: 18.204213, Train accuracy: 0.916667, val accuracy: 0.757000\n",
      "Loss: 11.277880, Train accuracy: 0.919778, val accuracy: 0.764000\n",
      "Loss: 11.344094, Train accuracy: 0.919556, val accuracy: 0.751000\n",
      "Loss: 12.023405, Train accuracy: 0.918111, val accuracy: 0.758000\n",
      "Loss: 25.914288, Train accuracy: 0.932000, val accuracy: 0.770000\n",
      "Loss: 10.561047, Train accuracy: 0.927111, val accuracy: 0.756000\n",
      "Loss: 17.270155, Train accuracy: 0.933889, val accuracy: 0.771000\n",
      "Loss: 17.630617, Train accuracy: 0.930111, val accuracy: 0.760000\n",
      "Loss: 10.627244, Train accuracy: 0.937778, val accuracy: 0.766000\n",
      "Loss: 15.718491, Train accuracy: 0.937556, val accuracy: 0.765000\n",
      "Loss: 15.840746, Train accuracy: 0.942444, val accuracy: 0.760000\n",
      "Loss: 12.134499, Train accuracy: 0.939778, val accuracy: 0.753000\n",
      "Loss: 10.993953, Train accuracy: 0.948000, val accuracy: 0.763000\n",
      "Loss: 13.121071, Train accuracy: 0.941000, val accuracy: 0.757000\n",
      "Loss: 8.557889, Train accuracy: 0.944222, val accuracy: 0.763000\n",
      "Loss: 9.744502, Train accuracy: 0.948556, val accuracy: 0.757000\n",
      "Loss: 6.838935, Train accuracy: 0.950111, val accuracy: 0.762000\n",
      "Loss: 16.208009, Train accuracy: 0.948333, val accuracy: 0.758000\n",
      "Loss: 7.693923, Train accuracy: 0.948556, val accuracy: 0.766000\n",
      "Loss: 8.102175, Train accuracy: 0.944889, val accuracy: 0.753000\n",
      "Loss: 7.330364, Train accuracy: 0.955111, val accuracy: 0.761000\n",
      "Loss: 4.304612, Train accuracy: 0.956667, val accuracy: 0.752000\n",
      "Loss: 8.482833, Train accuracy: 0.950444, val accuracy: 0.767000\n",
      "Loss: 8.535059, Train accuracy: 0.954333, val accuracy: 0.756000\n",
      "Loss: 16.837546, Train accuracy: 0.958111, val accuracy: 0.760000\n",
      "Loss: 6.968019, Train accuracy: 0.959444, val accuracy: 0.758000\n",
      "Loss: 7.323278, Train accuracy: 0.954667, val accuracy: 0.754000\n",
      "Loss: 11.384924, Train accuracy: 0.961667, val accuracy: 0.764000\n",
      "Loss: 7.119572, Train accuracy: 0.957556, val accuracy: 0.749000\n",
      "Loss: 6.142462, Train accuracy: 0.965667, val accuracy: 0.758000\n",
      "Loss: 7.873191, Train accuracy: 0.968000, val accuracy: 0.764000\n",
      "Loss: 9.746432, Train accuracy: 0.959778, val accuracy: 0.756000\n",
      "Loss: 12.011205, Train accuracy: 0.962000, val accuracy: 0.758000\n",
      "Loss: 6.973630, Train accuracy: 0.968111, val accuracy: 0.755000\n",
      "Loss: 9.232599, Train accuracy: 0.958889, val accuracy: 0.752000\n",
      "Loss: 7.705649, Train accuracy: 0.970222, val accuracy: 0.771000\n",
      "Loss: 5.553983, Train accuracy: 0.965556, val accuracy: 0.760000\n",
      "Loss: 13.121973, Train accuracy: 0.961000, val accuracy: 0.752000\n",
      "Loss: 12.096991, Train accuracy: 0.974556, val accuracy: 0.765000\n",
      "Loss: 11.902097, Train accuracy: 0.969333, val accuracy: 0.758000\n",
      "Loss: 3.158174, Train accuracy: 0.972778, val accuracy: 0.766000\n",
      "Loss: 4.976361, Train accuracy: 0.971333, val accuracy: 0.761000\n",
      "Loss: 8.031034, Train accuracy: 0.978333, val accuracy: 0.759000\n",
      "Loss: 4.880280, Train accuracy: 0.974333, val accuracy: 0.762000\n",
      "Loss: 6.716383, Train accuracy: 0.969667, val accuracy: 0.764000\n",
      "Loss: 8.543007, Train accuracy: 0.971111, val accuracy: 0.763000\n",
      "Loss: 11.326833, Train accuracy: 0.976667, val accuracy: 0.755000\n",
      "Loss: 7.267370, Train accuracy: 0.971889, val accuracy: 0.757000\n",
      "Loss: 13.872124, Train accuracy: 0.979222, val accuracy: 0.761000\n",
      "Loss: 12.759399, Train accuracy: 0.973556, val accuracy: 0.768000\n",
      "Loss: 15.377360, Train accuracy: 0.979000, val accuracy: 0.762000\n",
      "Loss: 6.907073, Train accuracy: 0.982889, val accuracy: 0.768000\n",
      "Loss: 6.713421, Train accuracy: 0.980667, val accuracy: 0.761000\n",
      "Loss: 5.090215, Train accuracy: 0.980556, val accuracy: 0.763000\n"
     ]
    },
    {
     "name": "stdout",
     "output_type": "stream",
     "text": [
      "Loss: 2.423644, Train accuracy: 0.975778, val accuracy: 0.761000\n",
      "Loss: 4.129473, Train accuracy: 0.984000, val accuracy: 0.762000\n",
      "Loss: 7.630939, Train accuracy: 0.982667, val accuracy: 0.763000\n",
      "Loss: 8.839604, Train accuracy: 0.976444, val accuracy: 0.757000\n",
      "Loss: 6.224874, Train accuracy: 0.982778, val accuracy: 0.767000\n",
      "Loss: 5.954625, Train accuracy: 0.985444, val accuracy: 0.763000\n",
      "Loss: 4.538530, Train accuracy: 0.984444, val accuracy: 0.772000\n",
      "Loss: 6.197976, Train accuracy: 0.987000, val accuracy: 0.768000\n",
      "Loss: 3.676839, Train accuracy: 0.985222, val accuracy: 0.763000\n",
      "Loss: 6.309856, Train accuracy: 0.986556, val accuracy: 0.763000\n",
      "Loss: 3.883364, Train accuracy: 0.985111, val accuracy: 0.764000\n",
      "Loss: 5.813243, Train accuracy: 0.985889, val accuracy: 0.760000\n",
      "Loss: 8.737198, Train accuracy: 0.981222, val accuracy: 0.762000\n",
      "Loss: 5.203320, Train accuracy: 0.986556, val accuracy: 0.766000\n",
      "Loss: 5.772041, Train accuracy: 0.979667, val accuracy: 0.762000\n",
      "Loss: 4.250547, Train accuracy: 0.986222, val accuracy: 0.766000\n",
      "Loss: 4.542879, Train accuracy: 0.987667, val accuracy: 0.768000\n",
      "Loss: 4.704548, Train accuracy: 0.987000, val accuracy: 0.763000\n",
      "Loss: 7.412647, Train accuracy: 0.986222, val accuracy: 0.762000\n",
      "Loss: 8.219849, Train accuracy: 0.989444, val accuracy: 0.770000\n",
      "Loss: 3.862422, Train accuracy: 0.984222, val accuracy: 0.760000\n",
      "Loss: 5.055339, Train accuracy: 0.990444, val accuracy: 0.767000\n",
      "Loss: 3.340662, Train accuracy: 0.992111, val accuracy: 0.763000\n",
      "Loss: 5.159798, Train accuracy: 0.991111, val accuracy: 0.755000\n",
      "Loss: 2.086752, Train accuracy: 0.990889, val accuracy: 0.768000\n",
      "Loss: 5.349899, Train accuracy: 0.986667, val accuracy: 0.764000\n",
      "Loss: 5.377610, Train accuracy: 0.989333, val accuracy: 0.762000\n",
      "Loss: 3.542925, Train accuracy: 0.993111, val accuracy: 0.772000\n",
      "Loss: 4.399977, Train accuracy: 0.988556, val accuracy: 0.752000\n",
      "Loss: 4.840885, Train accuracy: 0.992667, val accuracy: 0.763000\n",
      "Loss: 7.003791, Train accuracy: 0.993222, val accuracy: 0.758000\n",
      "Loss: 4.103806, Train accuracy: 0.992111, val accuracy: 0.763000\n",
      "Loss: 5.896338, Train accuracy: 0.993667, val accuracy: 0.762000\n",
      "Loss: 3.440943, Train accuracy: 0.991667, val accuracy: 0.761000\n",
      "Loss: 2.122712, Train accuracy: 0.994111, val accuracy: 0.766000\n",
      "Loss: 6.154021, Train accuracy: 0.993667, val accuracy: 0.763000\n",
      "Loss: 5.750643, Train accuracy: 0.994000, val accuracy: 0.768000\n",
      "Loss: 3.800367, Train accuracy: 0.994667, val accuracy: 0.770000\n",
      "Loss: 2.964668, Train accuracy: 0.995444, val accuracy: 0.762000\n",
      "Loss: 4.497240, Train accuracy: 0.991444, val accuracy: 0.764000\n",
      "Loss: 5.767696, Train accuracy: 0.992778, val accuracy: 0.761000\n",
      "Loss: 5.826104, Train accuracy: 0.993556, val accuracy: 0.767000\n",
      "Loss: 2.873463, Train accuracy: 0.995444, val accuracy: 0.770000\n",
      "Loss: 5.769503, Train accuracy: 0.993889, val accuracy: 0.760000\n",
      "Loss: 6.957472, Train accuracy: 0.995444, val accuracy: 0.759000\n",
      "Loss: 3.891768, Train accuracy: 0.995444, val accuracy: 0.763000\n",
      "Loss: 4.180424, Train accuracy: 0.994444, val accuracy: 0.770000\n",
      "Loss: 4.115789, Train accuracy: 0.992444, val accuracy: 0.757000\n",
      "Loss: 5.558339, Train accuracy: 0.994556, val accuracy: 0.762000\n",
      "Loss: 4.106323, Train accuracy: 0.996222, val accuracy: 0.763000\n",
      "Loss: 3.450323, Train accuracy: 0.993778, val accuracy: 0.769000\n",
      "Loss: 4.620847, Train accuracy: 0.990778, val accuracy: 0.768000\n",
      "Loss: 4.930527, Train accuracy: 0.993333, val accuracy: 0.759000\n",
      "Loss: 3.083162, Train accuracy: 0.995778, val accuracy: 0.770000\n",
      "Loss: 4.464828, Train accuracy: 0.996667, val accuracy: 0.771000\n",
      "Loss: 3.383599, Train accuracy: 0.996778, val accuracy: 0.767000\n",
      "Loss: 3.595174, Train accuracy: 0.997111, val accuracy: 0.763000\n",
      "Loss: 3.538215, Train accuracy: 0.995889, val accuracy: 0.763000\n",
      "Loss: 3.437047, Train accuracy: 0.997222, val accuracy: 0.769000\n",
      "Loss: 2.940753, Train accuracy: 0.997111, val accuracy: 0.769000\n",
      "Loss: 3.210772, Train accuracy: 0.991778, val accuracy: 0.754000\n",
      "Loss: 2.652564, Train accuracy: 0.994667, val accuracy: 0.763000\n",
      "Loss: 3.195371, Train accuracy: 0.996333, val accuracy: 0.774000\n",
      "Loss: 4.706825, Train accuracy: 0.995889, val accuracy: 0.770000\n",
      "Loss: 5.040097, Train accuracy: 0.997111, val accuracy: 0.768000\n",
      "Loss: 2.368272, Train accuracy: 0.995778, val accuracy: 0.765000\n",
      "Loss: 4.244126, Train accuracy: 0.998111, val accuracy: 0.765000\n",
      "Loss: 3.956245, Train accuracy: 0.997778, val accuracy: 0.766000\n",
      "Loss: 2.551656, Train accuracy: 0.996667, val accuracy: 0.763000\n",
      "Loss: 4.426940, Train accuracy: 0.998000, val accuracy: 0.766000\n",
      "Loss: 2.494118, Train accuracy: 0.997889, val accuracy: 0.773000\n",
      "Loss: 2.273946, Train accuracy: 0.998333, val accuracy: 0.768000\n",
      "Loss: 2.881668, Train accuracy: 0.998000, val accuracy: 0.770000\n",
      "Loss: 3.237867, Train accuracy: 0.998333, val accuracy: 0.768000\n",
      "Loss: 3.620565, Train accuracy: 0.997889, val accuracy: 0.762000\n",
      "best validation accuracy achieved: 0.762000\n"
     ]
    }
   ],
   "source": [
    "# Let's train the best one-hidden-layer network we can\n",
    "\n",
    "learning_rates = [1e-4]\n",
    "reg_strength = 1e-3\n",
    "learning_rate_decay = 0.999\n",
    "hidden_layer_size = 128\n",
    "num_epochs = 200\n",
    "batch_size = 64\n",
    "\n",
    "best_classifier = None\n",
    "best_val_accuracy = 0\n",
    "\n",
    "loss_history = []\n",
    "train_history = []\n",
    "val_history = []\n",
    "\n",
    "# find the best hyperparameters to train the network\n",
    "# Don't hesitate to add new values to the arrays above, perform experiments, use any tricks you want\n",
    "# You should expect to get to at least 40% of valudation accuracy\n",
    "# Save loss/train/history of the best classifier to the variables above\n",
    "dataset = Dataset(train_X, train_y, val_X, val_y)\n",
    "for lr in learning_rates:\n",
    "    model = TwoLayerNet(n_input=train_X.shape[1], n_output=10, hidden_layer_size=hidden_layer_size, reg=reg_strength)\n",
    "    trainer = Trainer(model, dataset, MomentumSGD(), learning_rate=lr, num_epochs=num_epochs, batch_size=batch_size, learning_rate_decay=learning_rate_decay)\n",
    "    loss, train_acc, val_acc = trainer.fit()\n",
    "    \n",
    "    accuracy = multiclass_accuracy(model.predict(val_X), val_y)\n",
    "    if accuracy > best_val_accuracy:\n",
    "        best_val_accuracy = accuracy\n",
    "        best_classifier = model\n",
    "        loss_history = loss\n",
    "        train_history = train_acc\n",
    "        val_history = val_acc\n",
    "\n",
    "print('best validation accuracy achieved: %f' % best_val_accuracy)"
   ]
  },
  {
   "cell_type": "code",
   "execution_count": 17,
   "metadata": {},
   "outputs": [
    {
     "data": {
      "text/plain": [
       "[<matplotlib.lines.Line2D at 0x1e6a436c4c0>]"
      ]
     },
     "execution_count": 17,
     "metadata": {},
     "output_type": "execute_result"
    },
    {
     "data": {
      "image/png": "[encoded data removed]",
      "text/plain": [
       "<Figure size 1080x504 with 2 Axes>"
      ]
     },
     "metadata": {
      "needs_background": "light"
     },
     "output_type": "display_data"
    }
   ],
   "source": [
    "plt.figure(figsize=(15, 7))\n",
    "plt.subplot(211)\n",
    "plt.title(\"Loss\")\n",
    "plt.plot(loss_history)\n",
    "plt.subplot(212)\n",
    "plt.title(\"Train/validation accuracy\")\n",
    "plt.plot(train_history)\n",
    "plt.plot(val_history)"
   ]
  },
  {
   "cell_type": "markdown",
   "metadata": {},
   "source": [
    "# Как обычно, посмотрим, как наша лучшая модель работает на тестовых данных"
   ]
  },
  {
   "cell_type": "code",
   "execution_count": 18,
   "metadata": {},
   "outputs": [
    {
     "name": "stdout",
     "output_type": "stream",
     "text": [
      "Neural net test set accuracy: 0.753000\n"
     ]
    }
   ],
   "source": [
    "test_pred = best_classifier.predict(test_X)\n",
    "test_accuracy = multiclass_accuracy(test_pred, test_y)\n",
    "print('Neural net test set accuracy: %f' % (test_accuracy, ))"
   ]
  }
 ],
 "metadata": {
  "kernelspec": {
   "display_name": "Python 3",
   "language": "python",
   "name": "python3"
  },
  "language_info": {
   "codemirror_mode": {
    "name": "ipython",
    "version": 3
   },
   "file_extension": ".py",
   "mimetype": "text/x-python",
   "name": "python",
   "nbconvert_exporter": "python",
   "pygments_lexer": "ipython3",
   "version": "3.9.2"
  }
 },
 "nbformat": 4,
 "nbformat_minor": 2
}
