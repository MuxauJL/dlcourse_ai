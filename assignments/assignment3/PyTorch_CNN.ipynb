{
 "cells": [
  {
   "cell_type": "markdown",
   "metadata": {},
   "source": [
    "# Задание 3.2 - сверточные нейронные сети (CNNs) в PyTorch\n",
    "\n",
    "Это упражнение мы буде выполнять в Google Colab - https://colab.research.google.com/  \n",
    "Google Colab позволяет запускать код в notebook в облаке Google, где можно воспользоваться бесплатным GPU!  \n",
    "\n",
    "Авторы курса благодарят компанию Google и надеятся, что праздник не закончится.\n",
    "\n",
    "Туториал по настройке Google Colab:  \n",
    "https://medium.com/deep-learning-turkey/google-colab-free-gpu-tutorial-e113627b9f5d  \n",
    "(Keras инсталлировать не нужно, наш notebook сам установит PyTorch)\n"
   ]
  },
  {
   "cell_type": "code",
   "execution_count": 1,
   "metadata": {
    "colab": {},
    "colab_type": "code",
    "id": "FcXBeP1O7cnY"
   },
   "outputs": [],
   "source": [
    "# Intstall PyTorch and download data\n",
    "#!pip3 install torch torchvision\n",
    "\n",
    "#!wget -c http://ufldl.stanford.edu/housenumbers/train_32x32.mat http://ufldl.stanford.edu/housenumbers/test_32x32.mat"
   ]
  },
  {
   "cell_type": "code",
   "execution_count": 2,
   "metadata": {
    "colab": {},
    "colab_type": "code",
    "id": "-afwWw-Q85vD"
   },
   "outputs": [],
   "source": [
    "from collections import namedtuple\n",
    "\n",
    "import matplotlib.pyplot as plt\n",
    "import numpy as np\n",
    "import PIL\n",
    "import torch\n",
    "import torch.nn as nn\n",
    "import torch.optim as optim\n",
    "import torchvision.datasets as dset\n",
    "from torch.utils.data.sampler import SubsetRandomSampler\n",
    "\n",
    "from torchvision import transforms"
   ]
  },
  {
   "cell_type": "code",
   "execution_count": 3,
   "metadata": {
    "colab": {},
    "colab_type": "code",
    "id": "NNU-OD9O9ltP"
   },
   "outputs": [
    {
     "name": "stdout",
     "output_type": "stream",
     "text": [
      "CUDA available: True\n",
      "Device count: 1\n"
     ]
    },
    {
     "data": {
      "text/plain": [
       "tensor([0.3268, 0.6105, 0.4443, 0.7245, 0.4051, 0.9510, 0.1943, 0.5147, 0.2786,\n",
       "        0.6328, 0.4767, 0.4164, 0.0781, 0.1922, 0.7569, 0.9388, 0.1518, 0.2612,\n",
       "        0.4166, 0.6729, 0.4545, 0.3807, 0.0601, 0.8506, 0.5539, 0.7116, 0.7821,\n",
       "        0.7959, 0.0843, 0.1753, 0.7849, 0.6915, 0.4015, 0.9200, 0.3054, 0.5025,\n",
       "        0.3312, 0.3904, 0.4564, 0.3464, 0.4671, 0.4809, 0.7997, 0.5503, 0.3221,\n",
       "        0.8365, 0.6671, 0.1203, 0.6069, 0.3281, 0.1397, 0.1295, 0.6501, 0.8741,\n",
       "        0.9577, 0.8613, 0.4687, 0.8272, 0.3544, 0.6715, 0.1685, 0.3435, 0.2715,\n",
       "        0.8866, 0.4138, 0.8164, 0.8109, 0.0936, 0.1716, 0.2573, 0.9954, 0.7840,\n",
       "        0.8949, 0.5479, 0.7693, 0.3170, 0.0335, 0.5030, 0.3093, 0.2039, 0.2525,\n",
       "        0.7769, 0.9800, 0.1204, 0.3995, 0.3583, 0.4420, 0.5853, 0.4438, 0.4917,\n",
       "        0.9901, 0.0279, 0.2739, 0.8852, 0.5135, 0.6025, 0.0132, 0.3912, 0.8078,\n",
       "        0.2822], device='cuda:0')"
      ]
     },
     "execution_count": 3,
     "metadata": {},
     "output_type": "execute_result"
    }
   ],
   "source": [
    "device = torch.device(\"cuda:0\") # Let's make sure GPU is available!\n",
    "print(f'CUDA available: {torch.cuda.is_available()}')\n",
    "print(f'Device count: {torch.cuda.device_count()}')\n",
    "torch.rand(100).cuda()"
   ]
  },
  {
   "cell_type": "markdown",
   "metadata": {},
   "source": [
    "# Загружаем данные"
   ]
  },
  {
   "cell_type": "code",
   "execution_count": 4,
   "metadata": {
    "colab": {},
    "colab_type": "code",
    "id": "YAvkoRx-9FsP"
   },
   "outputs": [],
   "source": [
    "# First, lets load the dataset\n",
    "data_train = dset.SVHN('./data', \n",
    "                       transform=transforms.Compose([\n",
    "                           transforms.ToTensor(),\n",
    "                           transforms.Normalize(mean=[0.43,0.44,0.47],\n",
    "                                               std=[0.20,0.20,0.20])                           \n",
    "                       ])\n",
    "                      )\n",
    "data_test = dset.SVHN('./data', split='test', transform=transforms.Compose([\n",
    "                           transforms.ToTensor(),\n",
    "                           transforms.Normalize(mean=[0.43,0.44,0.47],\n",
    "                                               std=[0.20,0.20,0.20])                           \n",
    "                       ]))"
   ]
  },
  {
   "cell_type": "markdown",
   "metadata": {},
   "source": [
    "Разделяем данные на training и validation.\n",
    "\n",
    "На всякий случай для подробностей - https://pytorch.org/tutorials/beginner/data_loading_tutorial.html"
   ]
  },
  {
   "cell_type": "code",
   "execution_count": 5,
   "metadata": {
    "colab": {},
    "colab_type": "code",
    "id": "YRnr8CPg7Hli"
   },
   "outputs": [],
   "source": [
    "batch_size = 64\n",
    "\n",
    "data_size = data_train.data.shape[0]\n",
    "validation_split = .2\n",
    "split = int(np.floor(validation_split * data_size))\n",
    "indices = list(range(data_size))\n",
    "np.random.shuffle(indices)\n",
    "\n",
    "train_indices, val_indices = indices[split:], indices[:split]\n",
    "\n",
    "train_sampler = SubsetRandomSampler(train_indices)\n",
    "val_sampler = SubsetRandomSampler(val_indices)\n",
    "\n",
    "train_loader = torch.utils.data.DataLoader(data_train, batch_size=batch_size, \n",
    "                                           sampler=train_sampler)\n",
    "val_loader = torch.utils.data.DataLoader(data_train, batch_size=batch_size,\n",
    "                                         sampler=val_sampler)"
   ]
  },
  {
   "cell_type": "code",
   "execution_count": 6,
   "metadata": {
    "colab": {},
    "colab_type": "code",
    "id": "LyYvt-T67PBG"
   },
   "outputs": [],
   "source": [
    "# We'll use a special helper module to shape it into a flat tensor\n",
    "class Flattener(nn.Module):\n",
    "    def forward(self, x):\n",
    "        batch_size, *_ = x.shape\n",
    "        return x.view(batch_size, -1)"
   ]
  },
  {
   "cell_type": "markdown",
   "metadata": {},
   "source": [
    "Создадим простейшую сеть с новыми слоями:  \n",
    "Convolutional - `nn.Conv2d`  \n",
    "MaxPool - `nn.MaxPool2d`"
   ]
  },
  {
   "cell_type": "code",
   "execution_count": 7,
   "metadata": {
    "colab": {},
    "colab_type": "code",
    "id": "w9SFVGZP7SQd"
   },
   "outputs": [],
   "source": [
    "nn_model = nn.Sequential(\n",
    "            nn.Conv2d(3, 64, 3, padding=1),\n",
    "            nn.ReLU(inplace=True),\n",
    "            nn.MaxPool2d(4),\n",
    "            nn.Conv2d(64, 64, 3, padding=1),\n",
    "            nn.ReLU(inplace=True),\n",
    "            nn.MaxPool2d(4),    \n",
    "            Flattener(),\n",
    "            nn.Linear(64*2*2, 10),\n",
    "          )\n",
    "\n",
    "nn_model.type(torch.cuda.FloatTensor)\n",
    "nn_model.to(device)\n",
    "\n",
    "loss = nn.CrossEntropyLoss().type(torch.cuda.FloatTensor)\n",
    "optimizer = optim.SGD(nn_model.parameters(), lr=1e-1, weight_decay=1e-4)"
   ]
  },
  {
   "cell_type": "markdown",
   "metadata": {},
   "source": [
    "Восстановите функцию `compute_accuracy` из прошлого задания.  \n",
    "Единственное отличие в новом - она должна передать данные на GPU прежде чем прогонять через модель. Сделайте это так же, как это делает функция `train_model`"
   ]
  },
  {
   "cell_type": "code",
   "execution_count": 8,
   "metadata": {
    "colab": {},
    "colab_type": "code",
    "id": "2ek3KVQK7hJ6"
   },
   "outputs": [
    {
     "name": "stdout",
     "output_type": "stream",
     "text": [
      "1) Average loss: 1.439584, Train accuracy: 0.518496, Val accuracy: 0.748413\n",
      "2) Average loss: 0.718074, Train accuracy: 0.780074, Val accuracy: 0.800218\n",
      "3) Average loss: 0.609681, Train accuracy: 0.817493, Val accuracy: 0.807795\n",
      "4) Average loss: 0.556759, Train accuracy: 0.833567, Val accuracy: 0.834619\n",
      "5) Average loss: 0.524693, Train accuracy: 0.842849, Val accuracy: 0.837690\n"
     ]
    }
   ],
   "source": [
    "def train_model(model, train_loader, val_loader, loss, optimizer, num_epochs, scheduler=None):    \n",
    "    loss_history = []\n",
    "    train_history = []\n",
    "    val_history = []\n",
    "    for epoch in range(num_epochs):\n",
    "        model.train() # Enter train mode\n",
    "        \n",
    "        loss_accum = 0\n",
    "        correct_samples = 0\n",
    "        total_samples = 0\n",
    "        for i_step, (x, y) in enumerate(train_loader):\n",
    "          \n",
    "            x_gpu = x.to(device)\n",
    "            y_gpu = y.to(device)\n",
    "            prediction = model(x_gpu)    \n",
    "            loss_value = loss(prediction, y_gpu)\n",
    "            optimizer.zero_grad()\n",
    "            loss_value.backward()\n",
    "            optimizer.step()\n",
    "            \n",
    "            _, indices = torch.max(prediction, 1)\n",
    "            correct_samples += torch.sum(indices == y_gpu)\n",
    "            total_samples += y.shape[0]\n",
    "            \n",
    "            loss_accum += loss_value\n",
    "\n",
    "        ave_loss = loss_accum / i_step\n",
    "        train_accuracy = float(correct_samples) / total_samples\n",
    "        val_accuracy = compute_accuracy(model, val_loader)\n",
    "        \n",
    "        loss_history.append(float(ave_loss))\n",
    "        train_history.append(train_accuracy)\n",
    "        val_history.append(val_accuracy)\n",
    "        \n",
    "        if scheduler:\n",
    "            if isinstance(scheduler, optim.lr_scheduler.ReduceLROnPlateau):\n",
    "                scheduler.step(val_accuracy)\n",
    "            else:\n",
    "                scheduler.step()\n",
    "        \n",
    "        print(\"%d) Average loss: %f, Train accuracy: %f, Val accuracy: %f\" % (epoch + 1, ave_loss, train_accuracy, val_accuracy))\n",
    "        \n",
    "    return loss_history, train_history, val_history\n",
    "        \n",
    "def compute_accuracy(model, loader):\n",
    "    \"\"\"\n",
    "    Computes accuracy on the dataset wrapped in a loader\n",
    "    \n",
    "    Returns: accuracy as a float value between 0 and 1\n",
    "    \"\"\"\n",
    "    model.eval() # Evaluation mode\n",
    "    with torch.no_grad():\n",
    "        correct_samples = 0\n",
    "        total_samples = 0\n",
    "        for i_step, (x, y) in enumerate(loader):\n",
    "            x_gpu = x.to(device)\n",
    "            y_gpu = y.to(device)\n",
    "            prediction = model(x_gpu)\n",
    "            _, indices = torch.max(prediction, 1)\n",
    "            correct_samples += torch.sum(indices == y_gpu)\n",
    "            total_samples += y_gpu.shape[0]\n",
    "    \n",
    "    return float(correct_samples) / total_samples\n",
    "\n",
    "loss_history, train_history, val_history = train_model(nn_model, train_loader, val_loader, loss, optimizer, 5)"
   ]
  },
  {
   "cell_type": "markdown",
   "metadata": {
    "colab_type": "text",
    "id": "6a-3a1ZFGEw_"
   },
   "source": [
    "# Аугментация данных (Data augmentation)\n",
    "\n",
    "В работе с изображениями одним из особенно важных методов является аугментация данных - то есть, генерация дополнительных данных для тренировки на основе изначальных.   \n",
    "Таким образом, мы получаем возможность \"увеличить\" набор данных для тренировки, что ведет к лучшей работе сети.\n",
    "Важно, чтобы аугментированные данные были похожи на те, которые могут встретиться в реальной жизни, иначе польза от аугментаций уменьшается и может ухудшить работу сети.\n",
    "\n",
    "С PyTorch идут несколько таких алгоритмов, называемых `transforms`. Более подробно про них можно прочитать тут -\n",
    "https://pytorch.org/tutorials/beginner/data_loading_tutorial.html#transforms\n",
    "\n",
    "Ниже мы используем следующие алгоритмы генерации:\n",
    "- ColorJitter - случайное изменение цвета\n",
    "- RandomHorizontalFlip - горизонтальное отражение с вероятностью 50%\n",
    "- RandomVerticalFlip - вертикальное отражение с вероятностью 50%\n",
    "- RandomRotation - случайный поворот"
   ]
  },
  {
   "cell_type": "code",
   "execution_count": 9,
   "metadata": {
    "colab": {},
    "colab_type": "code",
    "id": "jCWMUWmr7t5g"
   },
   "outputs": [],
   "source": [
    "tfs = transforms.Compose([\n",
    "    transforms.ColorJitter(hue=.50, saturation=.50),\n",
    "    transforms.RandomHorizontalFlip(),\n",
    "    transforms.RandomVerticalFlip(),\n",
    "    transforms.RandomRotation(50, interpolation=transforms.functional.InterpolationMode.BILINEAR),\n",
    "    transforms.ToTensor(),\n",
    "    transforms.Normalize(mean=[0.43,0.44,0.47],\n",
    "                       std=[0.20,0.20,0.20])                           \n",
    "])\n",
    "\n",
    "# Create augmented train dataset\n",
    "data_aug_train = dset.SVHN('./data', \n",
    "                       transform=tfs\n",
    "                      )\n",
    "\n",
    "train_aug_loader = torch.utils.data.DataLoader(data_aug_train, batch_size=batch_size, \n",
    "                                           sampler=train_sampler)"
   ]
  },
  {
   "cell_type": "markdown",
   "metadata": {},
   "source": [
    "Визуализируем результаты агментации (вообще, смотреть на сгенерированные данные всегда очень полезно)."
   ]
  },
  {
   "cell_type": "code",
   "execution_count": 10,
   "metadata": {
    "colab": {},
    "colab_type": "code",
    "id": "YlJJEro1KZ45"
   },
   "outputs": [
    {
     "data": {
      "image/png": "[encoded data removed]",
      "text/plain": [
       "<Figure size 2160x216 with 10 Axes>"
      ]
     },
     "metadata": {
      "needs_background": "light"
     },
     "output_type": "display_data"
    }
   ],
   "source": [
    "# Visualize some augmented images!\n",
    "# hint: you can create new datasets and loaders to accomplish this\n",
    "\n",
    "# Based on the visualizations, should we keep all the augmentations?\n",
    "\n",
    "tfs = transforms.Compose([\n",
    "    transforms.ColorJitter(hue=.20, saturation=.20),\n",
    "    transforms.RandomHorizontalFlip(),\n",
    "    transforms.RandomVerticalFlip(),\n",
    "    transforms.RandomRotation(10, interpolation=transforms.functional.InterpolationMode.BILINEAR),\n",
    "])\n",
    "\n",
    "data_aug_vis = dset.SVHN('./data', \n",
    "                       transform=tfs\n",
    "                      )\n",
    "\n",
    "plt.figure(figsize=(30, 3))\n",
    "\n",
    "for i, (x, y) in enumerate(data_aug_vis):\n",
    "    if i == 10:\n",
    "        break\n",
    "    plt.subplot(1, 10, i+1)\n",
    "    plt.grid(False)\n",
    "    plt.imshow(x)\n",
    "    plt.axis('off')"
   ]
  },
  {
   "cell_type": "markdown",
   "metadata": {
    "colab_type": "text",
    "id": "o2LrmsYHoguB"
   },
   "source": [
    "Все ли агментации одинаково полезны на этом наборе данных? Могут ли быть среди них те, которые собьют модель с толку?\n",
    "\n",
    "Выберите из них только корректные"
   ]
  },
  {
   "cell_type": "code",
   "execution_count": 11,
   "metadata": {
    "colab": {},
    "colab_type": "code",
    "id": "evro9ksXGs9u"
   },
   "outputs": [],
   "source": [
    "tfs = transforms.Compose([\n",
    "    # Good augmentations\n",
    "    transforms.ColorJitter(hue=.20, saturation=.20),\n",
    "    transforms.RandomHorizontalFlip(),\n",
    "    transforms.RandomRotation(10, interpolation=transforms.functional.InterpolationMode.BILINEAR),\n",
    "    transforms.ToTensor(),\n",
    "    transforms.Normalize(mean=[0.43,0.44,0.47],\n",
    "                       std=[0.20,0.20,0.20])                           \n",
    "])\n",
    "\n",
    "# Create new instances of loaders with the augmentations\n",
    "data_aug_train = dset.SVHN('./data', transform=tfs)\n",
    "train_aug_loader = torch.utils.data.DataLoader(data_aug_train, batch_size=batch_size, \n",
    "                                               sampler=train_sampler)\n",
    "val_loader = torch.utils.data.DataLoader(data_train, batch_size=batch_size,\n",
    "                                         sampler=val_sampler)"
   ]
  },
  {
   "cell_type": "code",
   "execution_count": 12,
   "metadata": {
    "colab": {},
    "colab_type": "code",
    "id": "PeO6Zw0DHqPR"
   },
   "outputs": [
    {
     "name": "stdout",
     "output_type": "stream",
     "text": [
      "1) Average loss: 1.002085, Train accuracy: 0.671604, Val accuracy: 0.774418\n",
      "2) Average loss: 0.843833, Train accuracy: 0.726171, Val accuracy: 0.772575\n",
      "3) Average loss: 0.799028, Train accuracy: 0.744651, Val accuracy: 0.765750\n",
      "4) Average loss: 0.768793, Train accuracy: 0.754513, Val accuracy: 0.766228\n",
      "5) Average loss: 0.744665, Train accuracy: 0.762942, Val accuracy: 0.778855\n"
     ]
    }
   ],
   "source": [
    "# Finally, let's train with augmentations!\n",
    "\n",
    "# Note we shouldn't use augmentations on validation\n",
    "\n",
    "loss_history, train_history, val_history = train_model(nn_model, train_aug_loader, val_loader, loss, optimizer, 5)"
   ]
  },
  {
   "cell_type": "markdown",
   "metadata": {
    "colab_type": "text",
    "id": "r0bcioK6JBDK"
   },
   "source": [
    "# LeNet\n",
    "Попробуем имплементировать классическую архитектуру сверточной нейронной сети, предложенную Яном ЛеКуном в 1998 году. В свое время она достигла впечатляющих результатов на MNIST, посмотрим как она справится с SVHN?\n",
    "Она описана в статье [\"Gradient Based Learning Applied to Document Recognition\"](http://yann.lecun.com/exdb/publis/pdf/lecun-01a.pdf), попробуйте прочитать ключевые части и имплементировать предложенную архитетуру на PyTorch.\n",
    "\n",
    "Реализовывать слои и функцию ошибки LeNet, которых нет в PyTorch, **не нужно** - просто возьмите их размеры и переведите в уже известные нам Convolutional, Pooling и Fully Connected layers.\n",
    "\n",
    "Если в статье не очень понятно, можно просто погуглить LeNet и разобраться в деталях :)"
   ]
  },
  {
   "cell_type": "code",
   "execution_count": 13,
   "metadata": {
    "colab": {},
    "colab_type": "code",
    "id": "ieEzZUglJAUB"
   },
   "outputs": [],
   "source": [
    "# LeNet-like architecture for SVHN task\n",
    "def create_lenet_model(device):\n",
    "    lenet_model = nn.Sequential(\n",
    "        nn.Conv2d(3, 6, 5),\n",
    "        nn.ReLU(inplace=True),\n",
    "        nn.MaxPool2d(2),\n",
    "        nn.Conv2d(6, 16, 5),\n",
    "        nn.ReLU(inplace=True),\n",
    "        nn.MaxPool2d(2),\n",
    "        nn.Flatten(),\n",
    "        nn.Linear(400, 120),\n",
    "        nn.ReLU(inplace=True),\n",
    "        nn.Linear(120, 84),\n",
    "        nn.ReLU(inplace=True),\n",
    "        nn.Linear(84, 10))\n",
    "\n",
    "    lenet_model.type(torch.cuda.FloatTensor)\n",
    "    lenet_model.to(device)\n",
    "    return lenet_model\n",
    "\n",
    "lenet_model = create_lenet_model(device=device)\n",
    "loss = nn.CrossEntropyLoss().type(torch.cuda.FloatTensor)\n",
    "optimizer = optim.SGD(lenet_model.parameters(), lr=1e-1, weight_decay=1e-4)"
   ]
  },
  {
   "cell_type": "code",
   "execution_count": 14,
   "metadata": {
    "colab": {},
    "colab_type": "code",
    "id": "WMmaPfdeKk9H"
   },
   "outputs": [
    {
     "name": "stdout",
     "output_type": "stream",
     "text": [
      "1) Average loss: 1.558958, Train accuracy: 0.463058, Val accuracy: 0.714832\n",
      "2) Average loss: 0.766354, Train accuracy: 0.761168, Val accuracy: 0.807453\n",
      "3) Average loss: 0.619916, Train accuracy: 0.809149, Val accuracy: 0.835779\n",
      "4) Average loss: 0.557765, Train accuracy: 0.827697, Val accuracy: 0.826701\n",
      "5) Average loss: 0.517985, Train accuracy: 0.841791, Val accuracy: 0.851887\n",
      "6) Average loss: 0.487492, Train accuracy: 0.849964, Val accuracy: 0.862262\n",
      "7) Average loss: 0.464337, Train accuracy: 0.856448, Val accuracy: 0.843492\n",
      "8) Average loss: 0.451682, Train accuracy: 0.859895, Val accuracy: 0.866221\n",
      "9) Average loss: 0.432538, Train accuracy: 0.866959, Val accuracy: 0.864856\n",
      "10) Average loss: 0.419571, Train accuracy: 0.870525, Val accuracy: 0.870657\n"
     ]
    }
   ],
   "source": [
    "# Let's train it!\n",
    "loss_history, train_history, val_history = train_model(lenet_model, train_aug_loader, val_loader, loss, optimizer, 10)"
   ]
  },
  {
   "cell_type": "markdown",
   "metadata": {
    "colab_type": "text",
    "id": "u_O9qiYySvuj"
   },
   "source": [
    "# Подбор гиперпараметров"
   ]
  },
  {
   "cell_type": "code",
   "execution_count": 15,
   "metadata": {
    "colab": {},
    "colab_type": "code",
    "id": "i6mhfdQ9K-N3"
   },
   "outputs": [
    {
     "name": "stdout",
     "output_type": "stream",
     "text": [
      "1) Average loss: 1.701174, Train accuracy: 0.408166, Val accuracy: 0.721248\n",
      "2) Average loss: 0.780660, Train accuracy: 0.758216, Val accuracy: 0.788410\n",
      "3) Average loss: 0.694354, Train accuracy: 0.785193, Val accuracy: 0.802676\n",
      "4) Average loss: 0.677758, Train accuracy: 0.790704, Val accuracy: 0.803699\n",
      "5) Average loss: 0.674602, Train accuracy: 0.792530, Val accuracy: 0.804655\n",
      "6) Average loss: 0.672535, Train accuracy: 0.794936, Val accuracy: 0.804450\n",
      "7) Average loss: 0.673794, Train accuracy: 0.794270, Val accuracy: 0.804723\n",
      "8) Average loss: 0.674452, Train accuracy: 0.794594, Val accuracy: 0.804723\n",
      "9) Average loss: 0.675687, Train accuracy: 0.793519, Val accuracy: 0.804723\n",
      "10) Average loss: 0.670347, Train accuracy: 0.795055, Val accuracy: 0.804723\n",
      "1) Average loss: 1.545447, Train accuracy: 0.463195, Val accuracy: 0.728278\n",
      "2) Average loss: 0.755448, Train accuracy: 0.762038, Val accuracy: 0.765135\n",
      "3) Average loss: 0.627548, Train accuracy: 0.805464, Val accuracy: 0.811207\n",
      "4) Average loss: 0.565984, Train accuracy: 0.825581, Val accuracy: 0.819193\n",
      "5) Average loss: 0.458504, Train accuracy: 0.859895, Val accuracy: 0.866084\n",
      "6) Average loss: 0.432492, Train accuracy: 0.867198, Val accuracy: 0.868337\n",
      "7) Average loss: 0.420820, Train accuracy: 0.871464, Val accuracy: 0.868746\n",
      "8) Average loss: 0.413112, Train accuracy: 0.872505, Val accuracy: 0.872500\n",
      "9) Average loss: 0.405298, Train accuracy: 0.875712, Val accuracy: 0.875845\n",
      "10) Average loss: 0.383368, Train accuracy: 0.882316, Val accuracy: 0.874616\n",
      "1) Average loss: 1.553554, Train accuracy: 0.464202, Val accuracy: 0.754419\n",
      "2) Average loss: 0.762318, Train accuracy: 0.760809, Val accuracy: 0.801037\n",
      "3) Average loss: 0.624584, Train accuracy: 0.807955, Val accuracy: 0.828408\n",
      "4) Average loss: 0.555069, Train accuracy: 0.828857, Val accuracy: 0.853321\n",
      "5) Average loss: 0.512126, Train accuracy: 0.842252, Val accuracy: 0.859600\n",
      "6) Average loss: 0.486119, Train accuracy: 0.851022, Val accuracy: 0.863081\n",
      "7) Average loss: 0.466063, Train accuracy: 0.856414, Val accuracy: 0.830592\n",
      "8) Average loss: 0.444846, Train accuracy: 0.862130, Val accuracy: 0.865948\n",
      "9) Average loss: 0.428005, Train accuracy: 0.867437, Val accuracy: 0.862194\n",
      "10) Average loss: 0.358611, Train accuracy: 0.890250, Val accuracy: 0.885537\n"
     ]
    }
   ],
   "source": [
    "# The key hyperparameters we're going to tune are learning speed, annealing rate and regularization\n",
    "# We also encourage you to try different optimizers as well\n",
    "\n",
    "Hyperparams = namedtuple(\"Hyperparams\", ['learning_rate', 'anneal_epochs', 'reg'])\n",
    "RunResult = namedtuple(\"RunResult\", ['model', 'train_history', 'val_history', 'final_val_accuracy'])\n",
    "\n",
    "learning_rates = [1e-1]\n",
    "anneal_coeff = 0.2\n",
    "anneal_epochs = [1, 5, 10]\n",
    "regs = [1e-4]\n",
    "\n",
    "batch_size = 64\n",
    "epoch_num = 10\n",
    "\n",
    "# Record all the runs here\n",
    "# Key should be Hyperparams and values should be RunResult\n",
    "run_record = {} \n",
    "\n",
    "# Use grid search or random search and record all runs in run_record dictionnary \n",
    "# Important: perform search in logarithmic space!\n",
    "\n",
    "for lr in learning_rates:\n",
    "    for anneal_epoch in anneal_epochs:\n",
    "        for reg in regs:\n",
    "            lenet_model = create_lenet_model(device=device)\n",
    "            optimizer = optim.SGD(lenet_model.parameters(), lr=lr, weight_decay=reg)\n",
    "            lr_lambda = lambda epoch: anneal_coeff if epoch % anneal_epoch == anneal_epoch - 1 else 1\n",
    "            scheduler = optim.lr_scheduler.MultiplicativeLR(optimizer, lr_lambda=lr_lambda)\n",
    "            loss_history, train_history, val_history = train_model(lenet_model, train_aug_loader, val_loader, loss, optimizer, epoch_num, scheduler)\n",
    "            run_record[Hyperparams(lr, anneal_epoch, reg)] = RunResult(lenet_model, train_history, val_history, val_history[-1])\n",
    "            "
   ]
  },
  {
   "cell_type": "code",
   "execution_count": 16,
   "metadata": {
    "colab": {
     "base_uri": "https://localhost:8080/",
     "height": 34
    },
    "colab_type": "code",
    "id": "Y6xExdw8JB1l",
    "outputId": "a9ad86f8-3e29-45cc-d33f-e6170018a4ed"
   },
   "outputs": [
    {
     "name": "stdout",
     "output_type": "stream",
     "text": [
      "Best validation accuracy: 0.89, best hyperparams: Hyperparams(learning_rate=0.1, anneal_epochs=10, reg=0.0001)\n"
     ]
    }
   ],
   "source": [
    "best_val_accuracy = None\n",
    "best_hyperparams = None\n",
    "best_run = None\n",
    "\n",
    "for hyperparams, run_result in run_record.items():\n",
    "    if best_val_accuracy is None or best_val_accuracy < run_result.final_val_accuracy:\n",
    "        best_val_accuracy = run_result.final_val_accuracy\n",
    "        best_hyperparams = hyperparams\n",
    "        best_run = run_result\n",
    "        \n",
    "print(\"Best validation accuracy: %4.2f, best hyperparams: %s\" % (best_val_accuracy, best_hyperparams))\n",
    "        "
   ]
  },
  {
   "cell_type": "markdown",
   "metadata": {
    "colab_type": "text",
    "id": "LOmsR0uVgtgf"
   },
   "source": [
    "# Свободное упражнение - догоним и перегоним LeNet!\n",
    "\n",
    "Попробуйте найти архитектуру и настройки тренировки, чтобы выступить лучше наших бейзлайнов.\n",
    "\n",
    "Что можно и нужно попробовать:\n",
    "- BatchNormalization (для convolution layers он в PyTorch называется [batchnorm2d](https://pytorch.org/docs/stable/nn.html#batchnorm2d))\n",
    "- Изменить количество слоев и их толщину\n",
    "- Изменять количество эпох тренировки\n",
    "- Попробовать и другие агментации"
   ]
  },
  {
   "cell_type": "code",
   "execution_count": 17,
   "metadata": {
    "colab": {},
    "colab_type": "code",
    "id": "tSVhD747icoc"
   },
   "outputs": [
    {
     "name": "stdout",
     "output_type": "stream",
     "text": [
      "1) Average loss: 0.819372, Train accuracy: 0.736904, Val accuracy: 0.828476\n",
      "2) Average loss: 0.547804, Train accuracy: 0.830546, Val accuracy: 0.843970\n",
      "3) Average loss: 0.508539, Train accuracy: 0.841501, Val accuracy: 0.857143\n",
      "4) Average loss: 0.493298, Train accuracy: 0.847695, Val accuracy: 0.862125\n",
      "5) Average loss: 0.482520, Train accuracy: 0.849742, Val accuracy: 0.872295\n",
      "6) Average loss: 0.479901, Train accuracy: 0.852507, Val accuracy: 0.857211\n",
      "7) Average loss: 0.474183, Train accuracy: 0.853445, Val accuracy: 0.857552\n",
      "8) Average loss: 0.466732, Train accuracy: 0.854435, Val accuracy: 0.860692\n",
      "9) Average loss: 0.471749, Train accuracy: 0.854332, Val accuracy: 0.864446\n",
      "10) Average loss: 0.464318, Train accuracy: 0.856346, Val accuracy: 0.869702\n",
      "11) Average loss: 0.462150, Train accuracy: 0.857045, Val accuracy: 0.865470\n",
      "12) Average loss: 0.459237, Train accuracy: 0.857352, Val accuracy: 0.864719\n",
      "13) Average loss: 0.369113, Train accuracy: 0.888851, Val accuracy: 0.895502\n",
      "14) Average loss: 0.337184, Train accuracy: 0.899140, Val accuracy: 0.902123\n",
      "15) Average loss: 0.321306, Train accuracy: 0.904600, Val accuracy: 0.904034\n",
      "16) Average loss: 0.307868, Train accuracy: 0.907126, Val accuracy: 0.903761\n",
      "17) Average loss: 0.301197, Train accuracy: 0.910743, Val accuracy: 0.903897\n",
      "18) Average loss: 0.294591, Train accuracy: 0.912415, Val accuracy: 0.905126\n",
      "19) Average loss: 0.290181, Train accuracy: 0.913763, Val accuracy: 0.902669\n",
      "20) Average loss: 0.283624, Train accuracy: 0.915811, Val accuracy: 0.905945\n",
      "21) Average loss: 0.280024, Train accuracy: 0.915964, Val accuracy: 0.904989\n",
      "22) Average loss: 0.273349, Train accuracy: 0.917892, Val accuracy: 0.906696\n",
      "23) Average loss: 0.266765, Train accuracy: 0.919820, Val accuracy: 0.904443\n",
      "24) Average loss: 0.252173, Train accuracy: 0.925673, Val accuracy: 0.906832\n",
      "25) Average loss: 0.243727, Train accuracy: 0.928352, Val accuracy: 0.907720\n",
      "26) Average loss: 0.246011, Train accuracy: 0.928147, Val accuracy: 0.906696\n",
      "27) Average loss: 0.241434, Train accuracy: 0.929035, Val accuracy: 0.907583\n",
      "28) Average loss: 0.239351, Train accuracy: 0.929154, Val accuracy: 0.907720\n",
      "29) Average loss: 0.237093, Train accuracy: 0.931202, Val accuracy: 0.908061\n",
      "30) Average loss: 0.237579, Train accuracy: 0.929256, Val accuracy: 0.907174\n",
      "31) Average loss: 0.232442, Train accuracy: 0.931389, Val accuracy: 0.907242\n",
      "32) Average loss: 0.231118, Train accuracy: 0.931423, Val accuracy: 0.907447\n",
      "33) Average loss: 0.234165, Train accuracy: 0.930997, Val accuracy: 0.908402\n",
      "34) Average loss: 0.231044, Train accuracy: 0.932208, Val accuracy: 0.906901\n",
      "35) Average loss: 0.227010, Train accuracy: 0.932362, Val accuracy: 0.907720\n",
      "36) Average loss: 0.228768, Train accuracy: 0.933505, Val accuracy: 0.906764\n",
      "37) Average loss: 0.227265, Train accuracy: 0.931833, Val accuracy: 0.907993\n",
      "38) Average loss: 0.226537, Train accuracy: 0.932618, Val accuracy: 0.907583\n",
      "39) Average loss: 0.226264, Train accuracy: 0.933079, Val accuracy: 0.907993\n",
      "40) Average loss: 0.227932, Train accuracy: 0.932652, Val accuracy: 0.907856\n",
      "41) Average loss: 0.229141, Train accuracy: 0.932259, Val accuracy: 0.907856\n",
      "42) Average loss: 0.228031, Train accuracy: 0.933659, Val accuracy: 0.907310\n",
      "43) Average loss: 0.225913, Train accuracy: 0.933795, Val accuracy: 0.907310\n",
      "44) Average loss: 0.228344, Train accuracy: 0.932123, Val accuracy: 0.907924\n",
      "45) Average loss: 0.225124, Train accuracy: 0.934478, Val accuracy: 0.907310\n",
      "46) Average loss: 0.224651, Train accuracy: 0.934819, Val accuracy: 0.907924\n",
      "47) Average loss: 0.226720, Train accuracy: 0.932874, Val accuracy: 0.907037\n",
      "48) Average loss: 0.225505, Train accuracy: 0.933676, Val accuracy: 0.907651\n",
      "49) Average loss: 0.227016, Train accuracy: 0.933317, Val accuracy: 0.907174\n",
      "50) Average loss: 0.224265, Train accuracy: 0.934102, Val accuracy: 0.906832\n"
     ]
    }
   ],
   "source": [
    "best_model = nn.Sequential(\n",
    "    nn.Conv2d(3, 10, 5),\n",
    "    nn.ReLU(inplace=True),\n",
    "    nn.MaxPool2d(2),\n",
    "    nn.BatchNorm2d(10),\n",
    "    nn.Conv2d(10, 50, 3),\n",
    "    nn.ReLU(inplace=True),\n",
    "    nn.MaxPool2d(2),\n",
    "    nn.BatchNorm2d(50),\n",
    "    nn.Conv2d(50, 100, 3), \n",
    "    nn.ReLU(inplace=True),\n",
    "    nn.MaxPool2d(2),\n",
    "    nn.BatchNorm2d(100),\n",
    "    nn.Flatten(),\n",
    "    nn.Linear(4 * 100, 10))\n",
    "\n",
    "best_model.type(torch.cuda.FloatTensor)\n",
    "best_model.to(device)\n",
    "\n",
    "tfs = transforms.Compose([\n",
    "    transforms.RandomHorizontalFlip(),\n",
    "    transforms.RandomAffine(10, interpolation=transforms.functional.InterpolationMode.BILINEAR),\n",
    "    transforms.ToTensor(),\n",
    "    transforms.Normalize(mean=[0.43,0.44,0.47],\n",
    "                       std=[0.20,0.20,0.20])                           \n",
    "])\n",
    "\n",
    "batch_size = 64\n",
    "data_aug_train = dset.SVHN('./data', transform=tfs)\n",
    "train_aug_loader = torch.utils.data.DataLoader(data_aug_train, batch_size=batch_size, \n",
    "                                               sampler=train_sampler)\n",
    "\n",
    "epoch_num = 50\n",
    "lr = 1e-2\n",
    "reg = 1e-4\n",
    "\n",
    "optimizer = optim.Adam(best_model.parameters(), lr=lr, weight_decay=reg)\n",
    "scheduler = optim.lr_scheduler.ReduceLROnPlateau(optimizer)\n",
    "loss_history, train_history, val_history = train_model(best_model, train_aug_loader, val_loader, loss, optimizer, epoch_num, scheduler)\n"
   ]
  },
  {
   "cell_type": "markdown",
   "metadata": {
    "colab_type": "text",
    "id": "ubeKgBcnhx7N"
   },
   "source": [
    "# Финальный аккорд - проверим лучшую модель на test set\n",
    "\n",
    "В качестве разнообразия - напишите код для прогона модели на test set вы.\n",
    "\n",
    "В результате вы должны натренировать модель, которая покажет более **90%** точности на test set.  \n",
    "Как водится, лучший результат в группе получит дополнительные баллы!"
   ]
  },
  {
   "cell_type": "code",
   "execution_count": 18,
   "metadata": {
    "colab": {},
    "colab_type": "code",
    "id": "EIqM1kdeh-hd"
   },
   "outputs": [
    {
     "name": "stdout",
     "output_type": "stream",
     "text": [
      "Final test accuracy:  0.910341118623233\n"
     ]
    }
   ],
   "source": [
    "# Compute accuracy on test set\n",
    "test_loader = torch.utils.data.DataLoader(data_test, batch_size=batch_size)\n",
    "final_test_accuracy = compute_accuracy(best_model, test_loader)\n",
    "print(\"Final test accuracy: \", final_test_accuracy)"
   ]
  }
 ],
 "metadata": {
  "accelerator": "GPU",
  "colab": {
   "collapsed_sections": [],
   "name": "PyTorch_CNN.ipynb",
   "provenance": [],
   "version": "0.3.2"
  },
  "kernelspec": {
   "display_name": "Python 3",
   "language": "python",
   "name": "python3"
  },
  "language_info": {
   "codemirror_mode": {
    "name": "ipython",
    "version": 3
   },
   "file_extension": ".py",
   "mimetype": "text/x-python",
   "name": "python",
   "nbconvert_exporter": "python",
   "pygments_lexer": "ipython3",
   "version": "3.9.2"
  }
 },
 "nbformat": 4,
 "nbformat_minor": 1
}
