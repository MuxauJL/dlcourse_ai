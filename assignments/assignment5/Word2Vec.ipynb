{
 "cells": [
  {
   "cell_type": "markdown",
   "metadata": {},
   "source": [
    "# Задание 5.1 - Word2Vec\n",
    "\n",
    "В этом задании мы натренируем свои word vectors на очень небольшом датасете.\n",
    "Мы будем использовать самую простую версию word2vec, без negative sampling и других оптимизаций.\n",
    "\n",
    "Перед запуском нужно запустить скрипт `download_data.sh` чтобы скачать данные.\n",
    "\n",
    "Датасет и модель очень небольшие, поэтому это задание можно выполнить и без GPU."
   ]
  },
  {
   "cell_type": "code",
   "execution_count": 1,
   "metadata": {},
   "outputs": [],
   "source": [
    "import torch\n",
    "import torch.nn as nn\n",
    "import torch.optim as optim\n",
    "from torch.utils.data import Dataset\n",
    "\n",
    "from torchvision import transforms\n",
    "\n",
    "import numpy as np\n",
    "import matplotlib.pyplot as plt\n",
    "\n",
    "# We'll use Principal Component Analysis (PCA) to visualize word vectors,\n",
    "# so make sure you install dependencies from requirements.txt!\n",
    "from sklearn.decomposition import PCA \n",
    "\n",
    "%matplotlib inline"
   ]
  },
  {
   "cell_type": "code",
   "execution_count": 2,
   "metadata": {
    "scrolled": false
   },
   "outputs": [
    {
     "name": "stdout",
     "output_type": "stream",
     "text": [
      "Num tokens: 19538\n",
      "waves ['without', 'city']\n",
      "snap ['wiseacre', 'crackle']\n",
      "quintessential ['lagaan', 'bollywood']\n",
      "it ['tolstoy', 'groupies']\n",
      "sporting ['eve', 'drunk', 'paper', 'hat']\n"
     ]
    }
   ],
   "source": [
    "import os\n",
    "import numpy as np\n",
    "\n",
    "class StanfordTreeBank:\n",
    "    '''\n",
    "    Wrapper for accessing Stanford Tree Bank Dataset\n",
    "    https://nlp.stanford.edu/sentiment/treebank.html\n",
    "    \n",
    "    Parses dataset, gives each token and index and provides lookups\n",
    "    from string token to index and back\n",
    "    \n",
    "    Allows to generate random context with sampling strategy described in\n",
    "    word2vec paper:\n",
    "    https://papers.nips.cc/paper/5021-distributed-representations-of-words-and-phrases-and-their-compositionality.pdf\n",
    "    '''\n",
    "    def __init__(self):\n",
    "        self.index_by_token = {}\n",
    "        self.token_by_index = []\n",
    "\n",
    "        self.sentences = []\n",
    "\n",
    "        self.token_freq = {}\n",
    "        \n",
    "        self.token_reject_by_index = None\n",
    "\n",
    "    def load_dataset(self, folder):\n",
    "        filename = os.path.join(folder, \"datasetSentences.txt\")\n",
    "\n",
    "        with open(filename, \"r\", encoding=\"latin1\") as f:\n",
    "            l = f.readline() # skip the first line\n",
    "            \n",
    "            for l in f:\n",
    "                splitted_line = l.strip().split()\n",
    "                words = [w.lower() for w in splitted_line[1:]] # First one is a number\n",
    "                    \n",
    "                self.sentences.append(words)\n",
    "                for word in words:\n",
    "                    if word in self.token_freq:\n",
    "                        self.token_freq[word] +=1 \n",
    "                    else:\n",
    "                        index = len(self.token_by_index)\n",
    "                        self.token_freq[word] = 1\n",
    "                        self.index_by_token[word] = index\n",
    "                        self.token_by_index.append(word)\n",
    "        self.compute_token_prob()\n",
    "                        \n",
    "    def compute_token_prob(self):\n",
    "        words_count = np.array([self.token_freq[token] for token in self.token_by_index])\n",
    "        words_freq = words_count / np.sum(words_count)\n",
    "        \n",
    "        # Following sampling strategy from word2vec paper:\n",
    "        # https://papers.nips.cc/paper/5021-distributed-representations-of-words-and-phrases-and-their-compositionality.pdf\n",
    "        self.token_reject_by_index = 1 - np.sqrt(1e-5 / words_freq)\n",
    "    \n",
    "    def check_reject(self, word):\n",
    "        return np.random.rand() > self.token_reject_by_index[self.index_by_token[word]]\n",
    "        \n",
    "    def get_random_context(self, context_length=5):\n",
    "        \"\"\"\n",
    "        Returns tuple of center word and list of context words\n",
    "        \"\"\"\n",
    "        sentence_sampled = []\n",
    "        while len(sentence_sampled) <= 2:\n",
    "            sentence_index = np.random.randint(len(self.sentences)) \n",
    "            sentence = self.sentences[sentence_index]\n",
    "            sentence_sampled = [word for word in sentence if self.check_reject(word)]\n",
    "    \n",
    "        center_word_index = np.random.randint(len(sentence_sampled))\n",
    "        \n",
    "        words_before = sentence_sampled[max(center_word_index - context_length//2,0):center_word_index]\n",
    "        words_after = sentence_sampled[center_word_index+1: center_word_index+1+context_length//2]\n",
    "        \n",
    "        return sentence_sampled[center_word_index], words_before + words_after\n",
    "    \n",
    "    def num_tokens(self):\n",
    "        return len(self.token_by_index)\n",
    "        \n",
    "data = StanfordTreeBank()\n",
    "data.load_dataset(\"./stanfordSentimentTreebank/\")\n",
    "\n",
    "print(\"Num tokens:\", data.num_tokens())\n",
    "for i in range(5):\n",
    "    center_word, other_words = data.get_random_context(5)\n",
    "    print(center_word, other_words)"
   ]
  },
  {
   "cell_type": "markdown",
   "metadata": {},
   "source": [
    "# Имплеменируем PyTorch-style Dataset для Word2Vec\n",
    "\n",
    "Этот Dataset должен сгенерировать много случайных контекстов и превратить их в сэмплы для тренировки.\n",
    "\n",
    "Напоминаем, что word2vec модель получает на вход One-hot вектор слова и тренирует простую сеть для предсказания на его основе соседних слов.\n",
    "Из набора слово-контекст создается N сэмплов (где N - количество слов в контексте):\n",
    "\n",
    "Например:\n",
    "\n",
    "Слово: `orders` и контекст: `['love', 'nicest', 'to', '50-year']` создадут 4 сэмпла:\n",
    "- input: `orders`, target: `love`\n",
    "- input: `orders`, target: `nicest`\n",
    "- input: `orders`, target: `to`\n",
    "- input: `orders`, target: `50-year`\n",
    "\n",
    "Все слова на входе и на выходе закодированы через one-hot encoding, с размером вектора равным количеству токенов."
   ]
  },
  {
   "cell_type": "code",
   "execution_count": 3,
   "metadata": {},
   "outputs": [
    {
     "name": "stdout",
     "output_type": "stream",
     "text": [
      "Sample - input: tensor([0., 0., 0.,  ..., 0., 0., 0.]), target: 83\n"
     ]
    }
   ],
   "source": [
    "class Word2VecPlain(Dataset):\n",
    "    '''\n",
    "    PyTorch Dataset for plain Word2Vec.\n",
    "    Accepts StanfordTreebank as data and is able to generate dataset based on\n",
    "    a number of random contexts\n",
    "    '''\n",
    "    def __init__(self, data, num_contexts=30000):\n",
    "        '''\n",
    "        Initializes Word2VecPlain, but doesn't generate the samples yet\n",
    "        (for that, use generate_dataset)\n",
    "        Arguments:\n",
    "        data - StanfordTreebank instace\n",
    "        num_contexts - number of random contexts to use when generating a dataset\n",
    "        '''\n",
    "        self.data = data\n",
    "        self.num_contexts = num_contexts\n",
    "        \n",
    "    \n",
    "    def generate_dataset(self):\n",
    "        '''\n",
    "        Generates dataset samples from random contexts\n",
    "        Note: there will be more samples than contexts because every context\n",
    "        can generate more than one sample\n",
    "        '''\n",
    "        # Generating the dataset\n",
    "        # You should sample num_contexts contexts from the data and turn them into samples\n",
    "        # Note you will have several samples from one context\n",
    "        self.samples = []\n",
    "        for i in range(self.num_contexts):\n",
    "            center_word, other_words = self.data.get_random_context()\n",
    "            for word in other_words:\n",
    "                self.samples.append((center_word, word))\n",
    "        \n",
    "    def __len__(self):\n",
    "        '''\n",
    "        Returns total number of samples\n",
    "        '''\n",
    "        return len(self.samples)\n",
    "    \n",
    "    def __getitem__(self, index):\n",
    "        '''\n",
    "        Returns i-th sample\n",
    "        \n",
    "        Return values:\n",
    "        input_vector - torch.Tensor with one-hot representation of the input vector\n",
    "        output_index - index of the target word (not torch.Tensor!)\n",
    "        '''\n",
    "        input_word, output_word = self.samples[index]\n",
    "        input_idx = self.data.index_by_token[input_word]\n",
    "        output_idx = self.data.index_by_token[output_word]\n",
    "        input_vector = torch.zeros(self.data.num_tokens())\n",
    "        input_vector[input_idx] = 1\n",
    "        return input_vector, output_idx\n",
    "\n",
    "dataset = Word2VecPlain(data, 10)\n",
    "dataset.generate_dataset()\n",
    "input_vector, target = dataset[3]\n",
    "print(\"Sample - input: %s, target: %s\" % (input_vector, int(target))) # target should be able to convert to int\n",
    "assert isinstance(input_vector, torch.Tensor)\n",
    "assert torch.sum(input_vector) == 1.0\n",
    "assert input_vector.shape[0] == data.num_tokens()"
   ]
  },
  {
   "cell_type": "markdown",
   "metadata": {},
   "source": [
    "# Создаем модель и тренируем ее"
   ]
  },
  {
   "cell_type": "code",
   "execution_count": 4,
   "metadata": {},
   "outputs": [
    {
     "data": {
      "text/plain": [
       "Sequential(\n",
       "  (0): Linear(in_features=19538, out_features=10, bias=False)\n",
       "  (1): Linear(in_features=10, out_features=19538, bias=False)\n",
       ")"
      ]
     },
     "execution_count": 4,
     "metadata": {},
     "output_type": "execute_result"
    }
   ],
   "source": [
    "# Create the usual PyTorch structures\n",
    "dataset = Word2VecPlain(data, 30000)\n",
    "dataset.generate_dataset()\n",
    "\n",
    "# We'll be training very small word vectors!\n",
    "wordvec_dim = 10\n",
    "\n",
    "# We can use a standard sequential model for this\n",
    "nn_model = nn.Sequential(\n",
    "            nn.Linear(data.num_tokens(), wordvec_dim, bias=False),\n",
    "            nn.Linear(wordvec_dim, data.num_tokens(), bias=False)\n",
    "         )\n",
    "nn_model.type(torch.FloatTensor)\n",
    "device = torch.device('cuda:0')\n",
    "nn_model.to(device)"
   ]
  },
  {
   "cell_type": "code",
   "execution_count": 5,
   "metadata": {},
   "outputs": [],
   "source": [
    "def extract_word_vectors(nn_model):\n",
    "    '''\n",
    "    Extracts word vectors from the model\n",
    "    \n",
    "    Returns:\n",
    "    input_vectors: torch.Tensor with dimensions (num_tokens, num_dimensions)\n",
    "    output_vectors: torch.Tensor with dimensions (num_tokens, num_dimensions)\n",
    "    '''\n",
    "    # Extracting word vectors from param weights\n",
    "    # return tuple of input vectors and output vectos \n",
    "    # Hint: you can access weights as Tensors through nn.Linear class attributes\n",
    "    input_vectors = torch.transpose(nn_model[0].weight, 0, 1).detach().clone()\n",
    "    output_vectors = nn_model[1].weight.detach().clone()\n",
    "    return input_vectors, output_vectors\n",
    "    \n",
    "\n",
    "untrained_input_vectors, untrained_output_vectors = extract_word_vectors(nn_model)\n",
    "assert untrained_input_vectors.shape == (data.num_tokens(), wordvec_dim)\n",
    "assert untrained_output_vectors.shape == (data.num_tokens(), wordvec_dim)"
   ]
  },
  {
   "cell_type": "code",
   "execution_count": 6,
   "metadata": {},
   "outputs": [],
   "source": [
    "def train_model(model, dataset, train_loader, optimizer, scheduler, num_epochs):\n",
    "    '''\n",
    "    Trains plain word2vec using cross-entropy loss and regenerating dataset every epoch\n",
    "    \n",
    "    Returns:\n",
    "    loss_history, train_history\n",
    "    '''\n",
    "    \n",
    "    loss = nn.CrossEntropyLoss().type(torch.FloatTensor)\n",
    "    best_loss = 1e6\n",
    "    \n",
    "    loss_history = []\n",
    "    train_history = []\n",
    "    for epoch in range(num_epochs):\n",
    "        model.train() # Enter train mode\n",
    "        \n",
    "        dataset.generate_dataset() # Regenerate dataset every epoch\n",
    "        \n",
    "        loss_accum = 0\n",
    "        correct_samples = 0\n",
    "        total_samples = 0\n",
    "        for i_step, (x, y) in enumerate(train_loader):\n",
    "            x_device = x.to(device)\n",
    "            y_device = y.to(device)\n",
    "            prediction = model(x_device)\n",
    "            loss_value = loss(prediction, y_device)\n",
    "            \n",
    "            optimizer.zero_grad()\n",
    "            loss_value.backward()\n",
    "            optimizer.step()\n",
    "\n",
    "            _, indices = torch.max(prediction, 1)\n",
    "            correct_samples += torch.sum(indices == y_device)\n",
    "            total_samples += y.shape[0]\n",
    "            loss_accum += loss_value\n",
    "\n",
    "        ave_loss = loss_accum / i_step\n",
    "        train_accuracy = correct_samples / total_samples\n",
    "        loss_history.append(float(ave_loss))\n",
    "        train_history.append(float(train_accuracy))\n",
    "        \n",
    "        if loss_history[-1] < best_loss:\n",
    "            best_state_dict = model.state_dict()\n",
    "            best_loss = loss_history[-1]\n",
    "        \n",
    "        if scheduler is not None:\n",
    "            if isinstance(scheduler, optim.lr_scheduler.ReduceLROnPlateau):\n",
    "                scheduler.step(train_accuracy)\n",
    "            else:\n",
    "                scheduler.step()\n",
    "        \n",
    "        print(\"Epoch %i. Average loss: %f, Train accuracy: %f\" % (epoch + 1, ave_loss, train_accuracy))\n",
    "        \n",
    "    return best_state_dict, loss_history, train_history"
   ]
  },
  {
   "cell_type": "markdown",
   "metadata": {},
   "source": [
    "# Ну и наконец тренировка!\n",
    "\n",
    "Добейтесь значения ошибки меньше **8.0**."
   ]
  },
  {
   "cell_type": "code",
   "execution_count": 7,
   "metadata": {},
   "outputs": [
    {
     "name": "stdout",
     "output_type": "stream",
     "text": [
      "Epoch 1. Average loss: 9.846856, Train accuracy: 0.001193\n",
      "Epoch 2. Average loss: 9.629573, Train accuracy: 0.002696\n",
      "Epoch 3. Average loss: 9.463944, Train accuracy: 0.003607\n",
      "Epoch 4. Average loss: 9.319510, Train accuracy: 0.005583\n",
      "Epoch 5. Average loss: 9.184013, Train accuracy: 0.007520\n",
      "Epoch 6. Average loss: 9.062519, Train accuracy: 0.010197\n",
      "Epoch 7. Average loss: 8.964924, Train accuracy: 0.011823\n",
      "Epoch 8. Average loss: 8.884179, Train accuracy: 0.013526\n",
      "Epoch 9. Average loss: 8.788307, Train accuracy: 0.015767\n",
      "Epoch 10. Average loss: 8.722276, Train accuracy: 0.016703\n",
      "Epoch 11. Average loss: 8.665544, Train accuracy: 0.017250\n",
      "Epoch 12. Average loss: 8.622381, Train accuracy: 0.018214\n",
      "Epoch 13. Average loss: 8.529398, Train accuracy: 0.021667\n",
      "Epoch 14. Average loss: 8.409662, Train accuracy: 0.023865\n",
      "Epoch 15. Average loss: 8.361550, Train accuracy: 0.025512\n",
      "Epoch 16. Average loss: 8.342529, Train accuracy: 0.025360\n",
      "Epoch 17. Average loss: 8.289993, Train accuracy: 0.026503\n",
      "Epoch 18. Average loss: 8.273852, Train accuracy: 0.026646\n",
      "Epoch 19. Average loss: 8.247572, Train accuracy: 0.027330\n",
      "Epoch 20. Average loss: 8.250570, Train accuracy: 0.026553\n",
      "Epoch 21. Average loss: 8.202904, Train accuracy: 0.028379\n",
      "Epoch 22. Average loss: 8.190865, Train accuracy: 0.027226\n",
      "Epoch 23. Average loss: 8.176019, Train accuracy: 0.028442\n",
      "Epoch 24. Average loss: 8.151035, Train accuracy: 0.029851\n",
      "Epoch 25. Average loss: 8.116791, Train accuracy: 0.031684\n",
      "Epoch 26. Average loss: 8.090590, Train accuracy: 0.031974\n",
      "Epoch 27. Average loss: 8.048381, Train accuracy: 0.032610\n",
      "Epoch 28. Average loss: 8.066338, Train accuracy: 0.031317\n",
      "Epoch 29. Average loss: 8.020247, Train accuracy: 0.032515\n",
      "Epoch 30. Average loss: 8.025790, Train accuracy: 0.033752\n",
      "Epoch 31. Average loss: 8.015156, Train accuracy: 0.032882\n",
      "Epoch 32. Average loss: 8.013357, Train accuracy: 0.032804\n",
      "Epoch 33. Average loss: 8.015543, Train accuracy: 0.033327\n",
      "Epoch 34. Average loss: 7.986992, Train accuracy: 0.033332\n",
      "Epoch 35. Average loss: 7.980726, Train accuracy: 0.033869\n",
      "Epoch 36. Average loss: 7.964178, Train accuracy: 0.034601\n",
      "Epoch 37. Average loss: 7.966982, Train accuracy: 0.034214\n",
      "Epoch 38. Average loss: 7.938525, Train accuracy: 0.033630\n",
      "Epoch 39. Average loss: 7.941616, Train accuracy: 0.034757\n",
      "Epoch 40. Average loss: 7.945739, Train accuracy: 0.035440\n",
      "Epoch 41. Average loss: 7.938183, Train accuracy: 0.035616\n",
      "Epoch 42. Average loss: 7.936168, Train accuracy: 0.034237\n",
      "Epoch 43. Average loss: 7.936905, Train accuracy: 0.035118\n",
      "Epoch 44. Average loss: 7.928913, Train accuracy: 0.033896\n",
      "Epoch 45. Average loss: 7.902933, Train accuracy: 0.034810\n",
      "Epoch 46. Average loss: 7.906864, Train accuracy: 0.035045\n",
      "Epoch 47. Average loss: 7.932891, Train accuracy: 0.033629\n",
      "Epoch 48. Average loss: 7.905662, Train accuracy: 0.035484\n",
      "Epoch 49. Average loss: 7.915892, Train accuracy: 0.035431\n",
      "Epoch 50. Average loss: 7.916207, Train accuracy: 0.035540\n",
      "Epoch 51. Average loss: 7.902398, Train accuracy: 0.034967\n",
      "Epoch 52. Average loss: 7.911316, Train accuracy: 0.034910\n",
      "Epoch 53. Average loss: 7.888371, Train accuracy: 0.036201\n",
      "Epoch 54. Average loss: 7.859869, Train accuracy: 0.036649\n",
      "Epoch 55. Average loss: 7.883048, Train accuracy: 0.034990\n",
      "Epoch 56. Average loss: 7.876196, Train accuracy: 0.035221\n",
      "Epoch 57. Average loss: 7.884827, Train accuracy: 0.035606\n",
      "Epoch 58. Average loss: 7.890083, Train accuracy: 0.035354\n",
      "Epoch 59. Average loss: 7.879952, Train accuracy: 0.035015\n",
      "Epoch 60. Average loss: 7.887058, Train accuracy: 0.035482\n",
      "Epoch 61. Average loss: 7.874751, Train accuracy: 0.035592\n",
      "Epoch 62. Average loss: 7.890309, Train accuracy: 0.035003\n",
      "Epoch 63. Average loss: 7.874402, Train accuracy: 0.035295\n",
      "Epoch 64. Average loss: 7.894217, Train accuracy: 0.036103\n",
      "Epoch 65. Average loss: 7.871317, Train accuracy: 0.036536\n",
      "Epoch 66. Average loss: 7.863812, Train accuracy: 0.036371\n",
      "Epoch 67. Average loss: 7.873293, Train accuracy: 0.035268\n",
      "Epoch 68. Average loss: 7.874330, Train accuracy: 0.035822\n",
      "Epoch 69. Average loss: 7.860748, Train accuracy: 0.036150\n",
      "Epoch 70. Average loss: 7.881036, Train accuracy: 0.035708\n",
      "Epoch 71. Average loss: 7.864543, Train accuracy: 0.035897\n",
      "Epoch 72. Average loss: 7.860503, Train accuracy: 0.037596\n",
      "Epoch 73. Average loss: 7.872831, Train accuracy: 0.035769\n",
      "Epoch 74. Average loss: 7.878980, Train accuracy: 0.035509\n",
      "Epoch 75. Average loss: 7.862581, Train accuracy: 0.036576\n",
      "Epoch 76. Average loss: 7.863448, Train accuracy: 0.036447\n",
      "Epoch 77. Average loss: 7.852642, Train accuracy: 0.036329\n",
      "Epoch 78. Average loss: 7.880504, Train accuracy: 0.035813\n",
      "Epoch 79. Average loss: 7.865491, Train accuracy: 0.036212\n",
      "Epoch 80. Average loss: 7.844172, Train accuracy: 0.037799\n",
      "Epoch 81. Average loss: 7.871532, Train accuracy: 0.036111\n",
      "Epoch 82. Average loss: 7.861044, Train accuracy: 0.035928\n",
      "Epoch 83. Average loss: 7.848500, Train accuracy: 0.037399\n",
      "Epoch 84. Average loss: 7.867976, Train accuracy: 0.035337\n",
      "Epoch 85. Average loss: 7.858622, Train accuracy: 0.036748\n",
      "Epoch 86. Average loss: 7.855065, Train accuracy: 0.036216\n",
      "Epoch 87. Average loss: 7.867301, Train accuracy: 0.036511\n",
      "Epoch 88. Average loss: 7.889431, Train accuracy: 0.036477\n",
      "Epoch 89. Average loss: 7.881804, Train accuracy: 0.035699\n",
      "Epoch 90. Average loss: 7.865832, Train accuracy: 0.036390\n",
      "Epoch 91. Average loss: 7.844113, Train accuracy: 0.036906\n",
      "Epoch 92. Average loss: 7.844118, Train accuracy: 0.036118\n",
      "Epoch 93. Average loss: 7.857065, Train accuracy: 0.036611\n",
      "Epoch 94. Average loss: 7.879859, Train accuracy: 0.034804\n",
      "Epoch 95. Average loss: 7.854286, Train accuracy: 0.036296\n",
      "Epoch 96. Average loss: 7.866872, Train accuracy: 0.036140\n",
      "Epoch 97. Average loss: 7.861782, Train accuracy: 0.035851\n",
      "Epoch 98. Average loss: 7.855058, Train accuracy: 0.036257\n",
      "Epoch 99. Average loss: 7.858986, Train accuracy: 0.035314\n",
      "Epoch 100. Average loss: 7.853906, Train accuracy: 0.036575\n"
     ]
    }
   ],
   "source": [
    "# Finally, let's train the model!\n",
    "num_epochs = 100\n",
    "batch_size = 64\n",
    "lr = 1e-2\n",
    "reg = 1e-7\n",
    "\n",
    "optimizer = optim.Adam(nn_model.parameters(), lr=lr, weight_decay=reg)\n",
    "scheduler = optim.lr_scheduler.ReduceLROnPlateau(optimizer, factor=0.5)\n",
    "train_loader = torch.utils.data.DataLoader(dataset, batch_size=batch_size)\n",
    "\n",
    "best_ckpt, loss_history, train_history = train_model(nn_model, dataset, train_loader, optimizer, scheduler, num_epochs)"
   ]
  },
  {
   "cell_type": "code",
   "execution_count": 8,
   "metadata": {},
   "outputs": [
    {
     "data": {
      "text/plain": [
       "[<matplotlib.lines.Line2D at 0x2741f407d60>]"
      ]
     },
     "execution_count": 8,
     "metadata": {},
     "output_type": "execute_result"
    },
    {
     "data": {
      "image/png": "[encoded data removed]",
      "text/plain": [
       "<Figure size 432x288 with 2 Axes>"
      ]
     },
     "metadata": {
      "needs_background": "light"
     },
     "output_type": "display_data"
    }
   ],
   "source": [
    "# Visualize training graphs\n",
    "plt.subplot(211)\n",
    "plt.plot(train_history)\n",
    "plt.subplot(212)\n",
    "plt.plot(loss_history)"
   ]
  },
  {
   "cell_type": "markdown",
   "metadata": {},
   "source": [
    "# Визуализируем вектора для разного вида слов до и после тренировки\n",
    "\n",
    "В случае успешной тренировки вы должны увидеть как вектора слов разных типов (например, знаков препинания, предлогов и остальных) разделяются семантически.\n",
    "\n",
    "Студенты - в качестве выполненного задания присылайте notebook с диаграммами!"
   ]
  },
  {
   "cell_type": "code",
   "execution_count": 9,
   "metadata": {},
   "outputs": [
    {
     "data": {
      "image/png": "[encoded data removed]",
      "text/plain": [
       "<Figure size 504x504 with 1 Axes>"
      ]
     },
     "metadata": {
      "needs_background": "light"
     },
     "output_type": "display_data"
    },
    {
     "data": {
      "image/png": "[encoded data removed]",
      "text/plain": [
       "<Figure size 504x504 with 1 Axes>"
      ]
     },
     "metadata": {
      "needs_background": "light"
     },
     "output_type": "display_data"
    }
   ],
   "source": [
    "trained_input_vectors, trained_output_vectors = extract_word_vectors(nn_model)\n",
    "assert trained_input_vectors.shape == (data.num_tokens(), wordvec_dim)\n",
    "assert trained_output_vectors.shape == (data.num_tokens(), wordvec_dim)\n",
    "\n",
    "def visualize_vectors(input_vectors, output_vectors, title=''):\n",
    "    full_vectors = torch.cat((input_vectors, output_vectors), 0).cpu().data.numpy()\n",
    "    wordvec_embedding = PCA(n_components=2).fit_transform(full_vectors)\n",
    "\n",
    "    # Helpful words form CS244D example\n",
    "    # http://cs224d.stanford.edu/assignment1/index.html\n",
    "    visualize_words = {'green': [\"the\", \"a\", \"an\"], \n",
    "                      'blue': [\",\", \".\", \"?\", \"!\", \"``\", \"''\", \"--\"], \n",
    "                      'brown': [\"good\", \"great\", \"cool\", \"brilliant\", \"wonderful\", \n",
    "                              \"well\", \"amazing\", \"worth\", \"sweet\", \"enjoyable\"],\n",
    "                      'orange': [\"boring\", \"bad\", \"waste\", \"dumb\", \"annoying\", \"stupid\"],\n",
    "                      'red': ['tell', 'told', 'said', 'say', 'says', 'tells', 'goes', 'go', 'went']\n",
    "                     }\n",
    "\n",
    "    plt.figure(figsize=(7,7))\n",
    "    plt.suptitle(title)\n",
    "    for color, words in visualize_words.items():\n",
    "        points = np.array([wordvec_embedding[data.index_by_token[w]] for w in words])\n",
    "        for i, word in enumerate(words):\n",
    "            plt.text(points[i, 0], points[i, 1], word, color=color,horizontalalignment='center')\n",
    "        plt.scatter(points[:, 0], points[:, 1], c=color, alpha=0.3, s=0.5)\n",
    "\n",
    "visualize_vectors(untrained_input_vectors, untrained_output_vectors, \"Untrained word vectors\")\n",
    "visualize_vectors(trained_input_vectors, trained_output_vectors, \"Trained word vectors\")"
   ]
  }
 ],
 "metadata": {
  "kernelspec": {
   "display_name": "Python 3",
   "language": "python",
   "name": "python3"
  },
  "language_info": {
   "codemirror_mode": {
    "name": "ipython",
    "version": 3
   },
   "file_extension": ".py",
   "mimetype": "text/x-python",
   "name": "python",
   "nbconvert_exporter": "python",
   "pygments_lexer": "ipython3",
   "version": "3.9.2"
  }
 },
 "nbformat": 4,
 "nbformat_minor": 2
}
